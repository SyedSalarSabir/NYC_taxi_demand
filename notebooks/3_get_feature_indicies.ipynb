{
 "cells": [
  {
   "cell_type": "code",
   "execution_count": null,
   "metadata": {},
   "outputs": [],
   "source": [
    "import pandas as pd\n",
    "import numpy as np"
   ]
  },
  {
   "cell_type": "code",
   "execution_count": null,
   "metadata": {},
   "outputs": [],
   "source": [
    "df = pd.read_parquet('../data/transformed/transformed_complete_data.parquet')"
   ]
  },
  {
   "cell_type": "code",
   "execution_count": null,
   "metadata": {},
   "outputs": [],
   "source": [
    "df_one_loc= df[df['PU_location']==43].reset_index(drop=True)\n",
    "df_one_loc"
   ]
  },
  {
   "cell_type": "code",
   "execution_count": null,
   "metadata": {},
   "outputs": [],
   "source": [
    "def get_features_and_target_indices(\n",
    "        rides : pd.DataFrame,\n",
    "        features :int,\n",
    "        step_size :int\n",
    ") -> pd.DataFrame:\n",
    "    features_and_target_indices = []\n",
    "\n",
    "    stop_position = len(rides) - 1\n",
    "    feature_index = features\n",
    "    target_index = features + 1\n",
    "    starting_index = 0\n",
    "\n",
    "    while target_index <= stop_position:\n",
    "        features_and_target_indices.append((starting_index,feature_index,target_index))\n",
    "\n",
    "        starting_index += step_size\n",
    "        feature_index +=step_size\n",
    "        target_index +=step_size\n",
    "\n",
    "    return features_and_target_indices"
   ]
  },
  {
   "cell_type": "code",
   "execution_count": null,
   "metadata": {},
   "outputs": [],
   "source": [
    "n_features = 12\n",
    "step_size = 1\n",
    "features_and_target = get_features_and_target_indices(df_one_loc,n_features,step_size)"
   ]
  },
  {
   "cell_type": "code",
   "execution_count": null,
   "metadata": {},
   "outputs": [],
   "source": [
    "features_and_target[:5]"
   ]
  },
  {
   "cell_type": "code",
   "execution_count": null,
   "metadata": {},
   "outputs": [],
   "source": [
    "df_one_loc.head(16)"
   ]
  },
  {
   "cell_type": "code",
   "execution_count": 10,
   "metadata": {},
   "outputs": [
    {
     "name": "stderr",
     "output_type": "stream",
     "text": [
      "C:\\Users\\user\\AppData\\Local\\Temp\\ipykernel_10836\\3557039123.py:1: DeprecationWarning: \n",
      "\n",
      "  `numpy.distutils` is deprecated since NumPy 1.23.0, as a result\n",
      "  of the deprecation of `distutils` itself. It will be removed for\n",
      "  Python >= 3.12. For older Python versions it will remain present.\n",
      "  It is recommended to use `setuptools < 60.0` for those Python versions.\n",
      "  For more details, see:\n",
      "    https://numpy.org/devdocs/reference/distutils_status_migration.html \n",
      "\n",
      "\n",
      "  from numpy.distutils.misc_util import is_sequence\n"
     ]
    }
   ],
   "source": [
    "from numpy.distutils.misc_util import is_sequence"
   ]
  },
  {
   "cell_type": "code",
   "execution_count": 14,
   "metadata": {},
   "outputs": [],
   "source": [
    "n_examples = len(features_and_target)\n",
    "X = np.ndarray(shape=(n_examples,n_features), dtype=np.float32)\n",
    "y = np.ndarray(shape=(n_examples),dtype=np.float32)\n",
    "pu_hour = []\n",
    "\n",
    "\n",
    "for i , idx in enumerate(features_and_target):\n",
    "    X[i,:] = df_one_loc.iloc[idx[0]:idx[1]]['rides'].values\n",
    "    \n",
    "    random = df_one_loc.iloc[idx[1]:idx[2]]['rides'].values\n",
    "    #print(is_sequence(random))\n",
    "    if random.shape != (1,):\n",
    "        print('position',i,random)\n",
    "    y[i] = df_one_loc.iloc[idx[1]:idx[2]]['rides'].values\n",
    "    \n",
    "    \n",
    "    pu_hour.append(df_one_loc.iloc[idx[1]]['PU_hours'])"
   ]
  },
  {
   "cell_type": "code",
   "execution_count": null,
   "metadata": {},
   "outputs": [],
   "source": [
    "y"
   ]
  },
  {
   "cell_type": "code",
   "execution_count": null,
   "metadata": {},
   "outputs": [],
   "source": [
    "features_df = pd.DataFrame(X,\n",
    "columns= [f'rides_{x}_hr_before_target'.format(x) for x in reversed(range(1,n_features+1))]\n",
    "                           )"
   ]
  },
  {
   "cell_type": "code",
   "execution_count": null,
   "metadata": {},
   "outputs": [],
   "source": [
    "features_df.head()"
   ]
  },
  {
   "cell_type": "code",
   "execution_count": null,
   "metadata": {},
   "outputs": [],
   "source": [
    "target_df = pd.DataFrame(y,columns=['Target_next_hour'])\n"
   ]
  },
  {
   "cell_type": "code",
   "execution_count": null,
   "metadata": {},
   "outputs": [],
   "source": [
    "from tqdm import tqdm\n",
    "\n",
    "complete_data = pd.read_parquet('../data/transformed/transformed_complete_data.parquet')\n",
    "\n",
    "\n",
    "\n",
    "def model_features_and_target(\n",
    "        ts_rides : pd.DataFrame,      \n",
    "        n_features : int,\n",
    "        step_size: int,\n",
    "        \n",
    ") -> pd.DataFrame:\n",
    "        \n",
    "        assert set(ts_rides.columns) == {'PU_hours','rides','PU_location'}\n",
    "        location_ids = ts_rides['PU_location'].unique()\n",
    "        \n",
    "        features = pd.DataFrame()\n",
    "        targets = pd.DataFrame()\n",
    "\n",
    "        for loc_id in tqdm(location_ids):\n",
    "                \n",
    "                ts_rides = ts_rides[ts_rides['PU_location'] == loc_id].reset_index(drop = True)\n",
    "                #ts_rides = ts_rides.loc[ts_rides.PU_location == loc_id,\n",
    "                 #                       ['PU_hours','rides']]\n",
    "\n",
    "                #get indices\n",
    "                stop_position = len(ts_rides) - 1\n",
    "                first_index = 0\n",
    "                mid_indices = n_features\n",
    "                last_index = n_features + 1\n",
    "                feature_indices= []\n",
    "\n",
    "                while last_index <= stop_position:\n",
    "                        feature_indices.append((first_index,mid_indices,last_index))\n",
    "                        first_index += step_size\n",
    "                        mid_indices += step_size\n",
    "                        last_index += step_size\n",
    "\n",
    "               \n",
    "\n",
    "                n_examples = len(feature_indices)\n",
    "                X = np.ndarray(shape=(n_examples,n_features), dtype=np.float32)\n",
    "                y = np.ndarray(shape=(n_examples),dtype=np.float32)\n",
    "                pu_hour = []\n",
    "               \n",
    "\n",
    "                for i , idx in enumerate(feature_indices):\n",
    "                        X[i,:] = ts_rides.iloc[idx[0]:idx[1]]['rides'].values\n",
    "                        y[i] = ts_rides.iloc[idx[1]:idx[2]]['rides'].values\n",
    "                        pu_hour.append(ts_rides.iloc[idx[1]]['PU_hours'])\n",
    "                \n",
    "\n",
    "                features_one_loc = pd.DataFrame(X ,\n",
    "                                                columns=[f'rides_{x+1}_hr_before_target'.format(x) for x in reversed(range(n_features))])\n",
    "\n",
    "                features_one_loc['PU_loc'] = loc_id\n",
    "                features_one_loc['PU_hours'] = pu_hour\n",
    "\n",
    "                features = pd.concat([features,features_one_loc])\n",
    "\n",
    "\n",
    "\n",
    "\n",
    "\n",
    "\n",
    "                \n",
    "                targets_one_loc = pd.DataFrame(y,columns=['next_hr_demand'])   \n",
    "              \n",
    "                targets = pd.concat([targets,targets_one_loc])\n",
    "        \n",
    "        features.reset_index(inplace=True,drop=True)\n",
    "        targets.reset_index(inplace=True, drop=True)\n",
    "        return features, targets   \n",
    "                \n",
    "features, targets = model_features_and_target(complete_data,24,1)"
   ]
  },
  {
   "cell_type": "code",
   "execution_count": null,
   "metadata": {},
   "outputs": [],
   "source": [
    "features"
   ]
  }
 ],
 "metadata": {
  "kernelspec": {
   "display_name": "src-Dl7-AU2p-py3.10",
   "language": "python",
   "name": "python3"
  },
  "language_info": {
   "codemirror_mode": {
    "name": "ipython",
    "version": 3
   },
   "file_extension": ".py",
   "mimetype": "text/x-python",
   "name": "python",
   "nbconvert_exporter": "python",
   "pygments_lexer": "ipython3",
   "version": "3.10.9"
  },
  "orig_nbformat": 4
 },
 "nbformat": 4,
 "nbformat_minor": 2
}
