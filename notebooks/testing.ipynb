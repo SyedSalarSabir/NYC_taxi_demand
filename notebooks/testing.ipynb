{
 "cells": [
  {
   "cell_type": "code",
   "execution_count": null,
   "metadata": {},
   "outputs": [],
   "source": [
    "%reload_ext autoreload\n",
    "%autoreload 2\n"
   ]
  },
  {
   "cell_type": "code",
   "execution_count": null,
   "metadata": {},
   "outputs": [],
   "source": [
    "import sys"
   ]
  },
  {
   "cell_type": "code",
   "execution_count": null,
   "metadata": {},
   "outputs": [],
   "source": [
    "\n",
    "\n",
    "# sys.path.insert(0,'E:/repos/my_projects/taxi_demand_project')\n",
    "sys.path.insert(0,'E:/repos/my_projects/taxi_demand_project/src/')\n",
    "sys.path.insert(0,'E:/repos/my_projects/taxi_demand_project')\n"
   ]
  },
  {
   "cell_type": "code",
   "execution_count": null,
   "metadata": {},
   "outputs": [],
   "source": [
    "sys.path"
   ]
  },
  {
   "cell_type": "code",
   "execution_count": null,
   "metadata": {},
   "outputs": [],
   "source": [
    "from src.data import print_data1_message, download_data"
   ]
  },
  {
   "cell_type": "code",
   "execution_count": null,
   "metadata": {},
   "outputs": [],
   "source": [
    "print_data1_message('hi!')"
   ]
  },
  {
   "cell_type": "code",
   "execution_count": null,
   "metadata": {},
   "outputs": [],
   "source": [
    "from data2 import print_data2"
   ]
  },
  {
   "cell_type": "code",
   "execution_count": null,
   "metadata": {},
   "outputs": [],
   "source": [
    "print_data2('data2 is working')"
   ]
  },
  {
   "cell_type": "code",
   "execution_count": 25,
   "metadata": {},
   "outputs": [],
   "source": [
    "from src.paths import RAW_DATA_DIR\n",
    "import requests\n",
    "# import pandas as pd\n",
    "# from typing import Optional , List\n",
    "# from tqdm import tqdm\n",
    "from pathlib import Path\n",
    "\n",
    "def download_data_test(year:int , month:int) -> Path:\n",
    "\n",
    "    url = f'https://d37ci6vzurychx.cloudfront.net/trip-data/yellow_tripdata_{year}-{month:02d}.parquet'\n",
    "    print('the url is ',url)\n",
    "    response = requests.get(url)\n",
    "\n",
    "    if response.status_code == 200:\n",
    "        path = RAW_DATA_DIR / f'taxi_{year}-{month:02d}.parquet'\n",
    "        open(path,'wb').write(response.content)\n",
    "        return path\n",
    "    else:\n",
    "        raise Exception(f'{url} not available') \n",
    "    \n"
   ]
  },
  {
   "cell_type": "code",
   "execution_count": 26,
   "metadata": {},
   "outputs": [
    {
     "name": "stdout",
     "output_type": "stream",
     "text": [
      "the url is  https://d37ci6vzurychx.cloudfront.net/trip-data/yellow_tripdata_2022-01.parquet\n"
     ]
    }
   ],
   "source": [
    "z = download_data_test(2022,1)"
   ]
  },
  {
   "cell_type": "code",
   "execution_count": 2,
   "metadata": {},
   "outputs": [],
   "source": [
    "import sys\n",
    "sys.path.insert(0, 'E:/repos/my_projects/taxi_demand_project')\n"
   ]
  },
  {
   "cell_type": "code",
   "execution_count": 3,
   "metadata": {},
   "outputs": [
    {
     "name": "stdout",
     "output_type": "stream",
     "text": [
      "file taxi_2022_01.parquet already downloaded\n",
      "file taxi_2022_02.parquet already downloaded\n"
     ]
    }
   ],
   "source": [
    "%reload_ext autoreload\n",
    "%autoreload 2\n",
    "from src.data import load_raw_data, transform_to_ts_data\n",
    "raw = load_raw_data(year=2022, months = [1,2])\n"
   ]
  },
  {
   "cell_type": "code",
   "execution_count": 5,
   "metadata": {},
   "outputs": [
    {
     "data": {
      "text/plain": [
       "Timestamp('2003-01-01 00:10:06')"
      ]
     },
     "execution_count": 5,
     "metadata": {},
     "output_type": "execute_result"
    }
   ],
   "source": [
    "raw['PU_datetime']"
   ]
  },
  {
   "cell_type": "code",
   "execution_count": 7,
   "metadata": {},
   "outputs": [],
   "source": [
    "raw['PU_hour']=raw['PU_datetime'].dt.floor('H')"
   ]
  },
  {
   "cell_type": "code",
   "execution_count": 9,
   "metadata": {},
   "outputs": [
    {
     "data": {
      "text/plain": [
       "Timestamp('2003-01-01 00:00:00')"
      ]
     },
     "execution_count": 9,
     "metadata": {},
     "output_type": "execute_result"
    }
   ],
   "source": [
    "raw['PU_hour'].min()"
   ]
  },
  {
   "cell_type": "code",
   "execution_count": 26,
   "metadata": {},
   "outputs": [],
   "source": [
    "year = 2022\n",
    "month = 1\n",
    "start = f'{year}-{month:02d}-01'\n",
    "end = f'{year+1}-{month:02d}-01'\n",
    "\n"
   ]
  },
  {
   "cell_type": "code",
   "execution_count": 27,
   "metadata": {},
   "outputs": [],
   "source": [
    "dates= raw[raw['PU_hour'] >= start]\n",
    "dates = dates[dates['PU_hour']< end] "
   ]
  },
  {
   "cell_type": "code",
   "execution_count": 28,
   "metadata": {},
   "outputs": [
    {
     "data": {
      "text/plain": [
       "Timestamp('2022-02-28 23:00:00')"
      ]
     },
     "execution_count": 28,
     "metadata": {},
     "output_type": "execute_result"
    }
   ],
   "source": [
    "dates['PU_hour'].max()"
   ]
  },
  {
   "cell_type": "code",
   "execution_count": 1,
   "metadata": {},
   "outputs": [
    {
     "name": "stderr",
     "output_type": "stream",
     "text": [
      "DeprecationWarning: \n",
      "\n",
      "  `numpy.distutils` is deprecated since NumPy 1.23.0, as a result\n",
      "  of the deprecation of `distutils` itself. It will be removed for\n",
      "  Python >= 3.12. For older Python versions it will remain present.\n",
      "  It is recommended to use `setuptools < 60.0` for those Python versions.\n",
      "  For more details, see:\n",
      "    https://numpy.org/devdocs/reference/distutils_status_migration.html \n",
      "\n",
      "\n",
      "2023-07-02 16:35:17.502 \n",
      "  \u001b[33m\u001b[1mWarning:\u001b[0m to view this Streamlit app on a browser, run it with the following\n",
      "  command:\n",
      "\n",
      "    streamlit run e:\\repos\\NYC_tax_demand_predictor\\.venv\\lib\\site-packages\\ipykernel_launcher.py [ARGUMENTS]\n"
     ]
    }
   ],
   "source": [
    "import sys\n",
    "sys.path.insert(0,'E:/repos/NYC_tax_demand_predictor')\n",
    "\n",
    "import streamlit as st\n",
    "from datetime import datetime , timedelta\n",
    "import pandas as pd\n",
    "import numpy as np\n",
    "import matplotlib.pyplot as plt\n",
    "import geopandas as gpd\n",
    "import pydeck as pdk\n",
    "import requests\n",
    "import zipfile\n",
    "\n",
    "from src.plot import plot_one_example\n",
    "from src.paths import DATA_DIR\n",
    "from src.inference import (\n",
    "    load_model_form_registry,\n",
    "    load_model_from_computer,\n",
    "    get_batch_data_from_feature_store,\n",
    "    get_model_predictions\n",
    ")\n",
    "from src.data import(load_raw_data , \n",
    "                     transform_to_ts_data,\n",
    "                     )\n",
    "from src.load_data_from_computer import load_features_from_computer \n",
    "\n",
    "\n",
    "st.set_page_config(layout='wide')\n",
    "\n",
    "\n",
    "st.title('Taxi Demand Predictor')\n",
    "\n",
    "time_now = pd.to_datetime(datetime.utcnow()).floor('H')\n",
    "\n",
    "st.header(f'Time Now {time_now}')\n",
    "\n",
    "\n",
    "progress_bar =  st.sidebar.header('Work in progress')\n",
    "progress_bar = st.sidebar.progress(0)\n",
    "\n",
    "N_steps = 7\n",
    "\n",
    "\n",
    "def load_shape_data():\n",
    "    URL = 'https://d37ci6vzurychx.cloudfront.net/misc/taxi_zones.zip'\n",
    "    response = requests.get(URL)\n",
    "    path = DATA_DIR / 'taxi_zones/taxi_zone.zip'\n",
    "    if response.status_code ==200:\n",
    "        open(path,'wb').write(response.content)\n",
    "    else:\n",
    "        print(f'The {URL} is not available')\n",
    "    \n",
    "    with zipfile.ZipFile(path,'r') as zip:\n",
    "        zip.extractall(DATA_DIR/'taxi_zones')\n",
    "    \n",
    "    return gpd.read_file(DATA_DIR/'taxi_zones/taxi_zones.shp').to_crs('epsg:4326')\n",
    "\n",
    "# with st.spinner(text ='Fetching the most inference data'):\n",
    "#     features =  get_batch_data_from_feature_store(current_time=time_now)\n",
    "#     st.spinner.write('Inference data retrived')\n",
    "#     progress_bar.progress(2/N_steps)\n",
    "#     print(f'{features}')\n"
   ]
  },
  {
   "cell_type": "code",
   "execution_count": 2,
   "metadata": {},
   "outputs": [],
   "source": [
    "with st.spinner(text= 'Downloading shape file for plotting taxi zones'):\n",
    "     gpd_pd = load_shape_data()\n",
    "     st.sidebar.write('The shape file is downloaded')\n",
    "     progress_bar.progress(1/N_steps)"
   ]
  },
  {
   "cell_type": "code",
   "execution_count": 3,
   "metadata": {},
   "outputs": [
    {
     "name": "stdout",
     "output_type": "stream",
     "text": [
      "current time 2023-07-02 08:00:00\n",
      "file taxi_2022_06.parquet already downloaded.\n",
      "file taxi_2022_07.parquet already downloaded.\n"
     ]
    },
    {
     "name": "stderr",
     "output_type": "stream",
     "text": [
      "100%|██████████| 261/261 [00:02<00:00, 100.06it/s]\n"
     ]
    },
    {
     "name": "stdout",
     "output_type": "stream",
     "text": [
      "fetching data from 2023-06-04 08:00:00 to 2023-07-02 07:00:00\n",
      "     rides_672_hr_before  rides_671_hr_before  rides_670_hr_before  \\\n",
      "0                    1.0                  2.0                  0.0   \n",
      "1                    1.0                  4.0                  2.0   \n",
      "2                    2.0                  1.0                  5.0   \n",
      "3                    1.0                  0.0                  0.0   \n",
      "4                   13.0                 19.0                 39.0   \n",
      "..                   ...                  ...                  ...   \n",
      "256                  0.0                  0.0                  0.0   \n",
      "257                  0.0                  0.0                  0.0   \n",
      "258                  0.0                  0.0                  0.0   \n",
      "259                  0.0                  0.0                  0.0   \n",
      "260                  0.0                  0.0                  0.0   \n",
      "\n",
      "     rides_669_hr_before  rides_668_hr_before  rides_667_hr_before  \\\n",
      "0                    0.0                  1.0                  7.0   \n",
      "1                    2.0                  7.0                 10.0   \n",
      "2                    3.0                  3.0                  1.0   \n",
      "3                    0.0                  0.0                  0.0   \n",
      "4                   47.0                 42.0                 46.0   \n",
      "..                   ...                  ...                  ...   \n",
      "256                  0.0                  0.0                  0.0   \n",
      "257                  0.0                  0.0                  0.0   \n",
      "258                  0.0                  0.0                  0.0   \n",
      "259                  0.0                  0.0                  0.0   \n",
      "260                  0.0                  0.0                  0.0   \n",
      "\n",
      "     rides_666_hr_before  rides_665_hr_before  rides_664_hr_before  \\\n",
      "0                    6.0                  8.0                  6.0   \n",
      "1                    5.0                  4.0                  8.0   \n",
      "2                    3.0                  6.0                  8.0   \n",
      "3                    0.0                  0.0                  0.0   \n",
      "4                   51.0                 44.0                 55.0   \n",
      "..                   ...                  ...                  ...   \n",
      "256                  0.0                  0.0                  0.0   \n",
      "257                  0.0                  0.0                  0.0   \n",
      "258                  0.0                  0.0                  0.0   \n",
      "259                  0.0                  0.0                  0.0   \n",
      "260                  0.0                  0.0                  0.0   \n",
      "\n",
      "     rides_663_hr_before  ...  rides_8_hr_before  rides_7_hr_before  \\\n",
      "0                    4.0  ...                0.0                1.0   \n",
      "1                    9.0  ...               11.0               12.0   \n",
      "2                    3.0  ...               10.0                2.0   \n",
      "3                    0.0  ...                0.0                0.0   \n",
      "4                   47.0  ...                2.0                2.0   \n",
      "..                   ...  ...                ...                ...   \n",
      "256                  0.0  ...                0.0                0.0   \n",
      "257                  0.0  ...                0.0                0.0   \n",
      "258                  0.0  ...                0.0                0.0   \n",
      "259                  0.0  ...                0.0                0.0   \n",
      "260                  0.0  ...                0.0                0.0   \n",
      "\n",
      "     rides_6_hr_before  rides_5_hr_before  rides_4_hr_before  \\\n",
      "0                  0.0                0.0                2.0   \n",
      "1                 16.0               10.0                5.0   \n",
      "2                  1.0                3.0                2.0   \n",
      "3                  0.0                0.0                0.0   \n",
      "4                  2.0                0.0                2.0   \n",
      "..                 ...                ...                ...   \n",
      "256                0.0                0.0                0.0   \n",
      "257                0.0                0.0                0.0   \n",
      "258                0.0                0.0                0.0   \n",
      "259                0.0                0.0                0.0   \n",
      "260                0.0                0.0                0.0   \n",
      "\n",
      "     rides_3_hr_before  rides_2_hr_before  rides_1_hr_before  \\\n",
      "0                  1.0                2.0                1.0   \n",
      "1                  1.0                1.0                1.0   \n",
      "2                  2.0                3.0                2.0   \n",
      "3                  0.0                0.0                0.0   \n",
      "4                  0.0                0.0                2.0   \n",
      "..                 ...                ...                ...   \n",
      "256                0.0                0.0                0.0   \n",
      "257                0.0                0.0                0.0   \n",
      "258                0.0                0.0                0.0   \n",
      "259                0.0                0.0                0.0   \n",
      "260                0.0                0.0                0.0   \n",
      "\n",
      "                pu_hour  pu_location  \n",
      "0   2023-07-02 08:00:00            1  \n",
      "1   2023-07-02 08:00:00            4  \n",
      "2   2023-07-02 08:00:00            7  \n",
      "3   2023-07-02 08:00:00            8  \n",
      "4   2023-07-02 08:00:00           13  \n",
      "..                  ...          ...  \n",
      "256 2023-07-02 08:00:00           84  \n",
      "257 2023-07-02 08:00:00          245  \n",
      "258 2023-07-02 08:00:00           30  \n",
      "259 2023-07-02 08:00:00          109  \n",
      "260 2023-07-02 08:00:00           59  \n",
      "\n",
      "[261 rows x 674 columns]\n"
     ]
    }
   ],
   "source": [
    "with st.spinner(text ='Fetching the inference data'):\n",
    "    features =  load_features_from_computer(current_time= time_now)\n",
    "    st.sidebar.write('Inference data retrived')\n",
    "    progress_bar.progress(2/N_steps)\n",
    "    print(f'{features}')"
   ]
  },
  {
   "cell_type": "code",
   "execution_count": 4,
   "metadata": {},
   "outputs": [],
   "source": [
    "with st.spinner(text='Loading model from Model Registry'):\n",
    "    model = load_model_from_computer()\n",
    "    st.sidebar.write('Model loaded from Registry')\n",
    "    progress_bar.progress(3/N_steps)\n"
   ]
  },
  {
   "cell_type": "code",
   "execution_count": 5,
   "metadata": {},
   "outputs": [],
   "source": [
    "with st.spinner(text='Loading Prediction from Model Registry'):\n",
    "    results = get_model_predictions(model, features)\n",
    "    st.sidebar.write('Predictions loaded from Registry')\n",
    "    progress_bar.progress(4/N_steps)\n"
   ]
  },
  {
   "cell_type": "code",
   "execution_count": 27,
   "metadata": {},
   "outputs": [],
   "source": [
    "def color_scaling(x,minval,maxval,start_color,end_color):\n",
    "    f = float(x-minval)/(maxval-minval)\n",
    "    scale = tuple(f*(b-a)+a for (a, b) in zip(start_color, end_color))\n",
    "    return scale\n",
    "\n",
    "df = pd.merge(gpd_pd, results, \n",
    "    right_on = 'pu_location',left_on = 'LocationID', how ='inner')\n",
    "\n",
    "BLACK, GREEN = (0,0,0), (0,255,0)\n",
    "\n",
    "df['color_scale'] = df['predicted_demand']\n",
    "max_value, min_value = df['color_scale'].max(), df['color_scale'].min()\n",
    "\n",
    "df['color'] = df['color_scale'].apply(lambda x : color_scaling(x,min_value,\n",
    "                                                                max_value,BLACK,GREEN))\n",
    "   \n",
    "   \n"
   ]
  },
  {
   "cell_type": "code",
   "execution_count": 28,
   "metadata": {},
   "outputs": [
    {
     "data": {
      "text/plain": [
       "Index(['OBJECTID', 'Shape_Leng', 'Shape_Area', 'zone', 'LocationID', 'borough',\n",
       "       'geometry', 'pu_location', 'predicted_demand', 'color_scale', 'color'],\n",
       "      dtype='object')"
      ]
     },
     "execution_count": 28,
     "metadata": {},
     "output_type": "execute_result"
    }
   ],
   "source": [
    "df.columns"
   ]
  },
  {
   "cell_type": "code",
   "execution_count": 31,
   "metadata": {},
   "outputs": [
    {
     "data": {
      "text/html": [
       "<div>\n",
       "<style scoped>\n",
       "    .dataframe tbody tr th:only-of-type {\n",
       "        vertical-align: middle;\n",
       "    }\n",
       "\n",
       "    .dataframe tbody tr th {\n",
       "        vertical-align: top;\n",
       "    }\n",
       "\n",
       "    .dataframe thead th {\n",
       "        text-align: right;\n",
       "    }\n",
       "</style>\n",
       "<table border=\"1\" class=\"dataframe\">\n",
       "  <thead>\n",
       "    <tr style=\"text-align: right;\">\n",
       "      <th></th>\n",
       "      <th>LocationID</th>\n",
       "      <th>pu_location</th>\n",
       "      <th>predicted_demand</th>\n",
       "      <th>color_scale</th>\n",
       "      <th>color</th>\n",
       "    </tr>\n",
       "  </thead>\n",
       "  <tbody>\n",
       "    <tr>\n",
       "      <th>0</th>\n",
       "      <td>1</td>\n",
       "      <td>1</td>\n",
       "      <td>1.0</td>\n",
       "      <td>1.0</td>\n",
       "      <td>(0.0, 1.795774647887324, 0.0)</td>\n",
       "    </tr>\n",
       "    <tr>\n",
       "      <th>1</th>\n",
       "      <td>2</td>\n",
       "      <td>2</td>\n",
       "      <td>0.0</td>\n",
       "      <td>0.0</td>\n",
       "      <td>(0.0, 0.0, 0.0)</td>\n",
       "    </tr>\n",
       "    <tr>\n",
       "      <th>2</th>\n",
       "      <td>3</td>\n",
       "      <td>3</td>\n",
       "      <td>0.0</td>\n",
       "      <td>0.0</td>\n",
       "      <td>(0.0, 0.0, 0.0)</td>\n",
       "    </tr>\n",
       "    <tr>\n",
       "      <th>3</th>\n",
       "      <td>4</td>\n",
       "      <td>4</td>\n",
       "      <td>2.0</td>\n",
       "      <td>2.0</td>\n",
       "      <td>(0.0, 3.591549295774648, 0.0)</td>\n",
       "    </tr>\n",
       "    <tr>\n",
       "      <th>4</th>\n",
       "      <td>5</td>\n",
       "      <td>5</td>\n",
       "      <td>0.0</td>\n",
       "      <td>0.0</td>\n",
       "      <td>(0.0, 0.0, 0.0)</td>\n",
       "    </tr>\n",
       "    <tr>\n",
       "      <th>...</th>\n",
       "      <td>...</td>\n",
       "      <td>...</td>\n",
       "      <td>...</td>\n",
       "      <td>...</td>\n",
       "      <td>...</td>\n",
       "    </tr>\n",
       "    <tr>\n",
       "      <th>254</th>\n",
       "      <td>259</td>\n",
       "      <td>259</td>\n",
       "      <td>0.0</td>\n",
       "      <td>0.0</td>\n",
       "      <td>(0.0, 0.0, 0.0)</td>\n",
       "    </tr>\n",
       "    <tr>\n",
       "      <th>255</th>\n",
       "      <td>260</td>\n",
       "      <td>260</td>\n",
       "      <td>0.0</td>\n",
       "      <td>0.0</td>\n",
       "      <td>(0.0, 0.0, 0.0)</td>\n",
       "    </tr>\n",
       "    <tr>\n",
       "      <th>256</th>\n",
       "      <td>261</td>\n",
       "      <td>261</td>\n",
       "      <td>10.0</td>\n",
       "      <td>10.0</td>\n",
       "      <td>(0.0, 17.95774647887324, 0.0)</td>\n",
       "    </tr>\n",
       "    <tr>\n",
       "      <th>257</th>\n",
       "      <td>262</td>\n",
       "      <td>262</td>\n",
       "      <td>50.0</td>\n",
       "      <td>50.0</td>\n",
       "      <td>(0.0, 89.78873239436619, 0.0)</td>\n",
       "    </tr>\n",
       "    <tr>\n",
       "      <th>258</th>\n",
       "      <td>263</td>\n",
       "      <td>263</td>\n",
       "      <td>62.0</td>\n",
       "      <td>62.0</td>\n",
       "      <td>(0.0, 111.33802816901408, 0.0)</td>\n",
       "    </tr>\n",
       "  </tbody>\n",
       "</table>\n",
       "<p>259 rows × 5 columns</p>\n",
       "</div>"
      ],
      "text/plain": [
       "     LocationID  pu_location  predicted_demand  color_scale  \\\n",
       "0             1            1               1.0          1.0   \n",
       "1             2            2               0.0          0.0   \n",
       "2             3            3               0.0          0.0   \n",
       "3             4            4               2.0          2.0   \n",
       "4             5            5               0.0          0.0   \n",
       "..          ...          ...               ...          ...   \n",
       "254         259          259               0.0          0.0   \n",
       "255         260          260               0.0          0.0   \n",
       "256         261          261              10.0         10.0   \n",
       "257         262          262              50.0         50.0   \n",
       "258         263          263              62.0         62.0   \n",
       "\n",
       "                              color  \n",
       "0     (0.0, 1.795774647887324, 0.0)  \n",
       "1                   (0.0, 0.0, 0.0)  \n",
       "2                   (0.0, 0.0, 0.0)  \n",
       "3     (0.0, 3.591549295774648, 0.0)  \n",
       "4                   (0.0, 0.0, 0.0)  \n",
       "..                              ...  \n",
       "254                 (0.0, 0.0, 0.0)  \n",
       "255                 (0.0, 0.0, 0.0)  \n",
       "256   (0.0, 17.95774647887324, 0.0)  \n",
       "257   (0.0, 89.78873239436619, 0.0)  \n",
       "258  (0.0, 111.33802816901408, 0.0)  \n",
       "\n",
       "[259 rows x 5 columns]"
      ]
     },
     "execution_count": 31,
     "metadata": {},
     "output_type": "execute_result"
    }
   ],
   "source": [
    "df[['LocationID','pu_location','predicted_demand','color_scale','color']]"
   ]
  },
  {
   "cell_type": "code",
   "execution_count": null,
   "metadata": {},
   "outputs": [],
   "source": []
  }
 ],
 "metadata": {
  "kernelspec": {
   "display_name": "src-Dl7-AU2p-py3.10",
   "language": "python",
   "name": "python3"
  },
  "language_info": {
   "codemirror_mode": {
    "name": "ipython",
    "version": 3
   },
   "file_extension": ".py",
   "mimetype": "text/x-python",
   "name": "python",
   "nbconvert_exporter": "python",
   "pygments_lexer": "ipython3",
   "version": "3.8.10"
  },
  "orig_nbformat": 4
 },
 "nbformat": 4,
 "nbformat_minor": 2
}
