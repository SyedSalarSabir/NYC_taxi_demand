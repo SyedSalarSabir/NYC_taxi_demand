{
 "cells": [
  {
   "cell_type": "code",
   "execution_count": 2,
   "metadata": {},
   "outputs": [],
   "source": [
    "import sys \n",
    "sys.path.insert(0, 'E:/repos/my_projects/taxi_demand_project')"
   ]
  },
  {
   "cell_type": "code",
   "execution_count": 86,
   "metadata": {},
   "outputs": [
    {
     "name": "stdout",
     "output_type": "stream",
     "text": [
      "file taxi_2022_01.parquet already downloaded\n",
      "file taxi_2022_02.parquet already downloaded\n",
      "file taxi_2022_03.parquet already downloaded\n",
      "file taxi_2022_04.parquet already downloaded\n",
      "file taxi_2022_05.parquet already downloaded\n",
      "file taxi_2022_06.parquet already downloaded\n",
      "file taxi_2022_07.parquet already downloaded\n",
      "file taxi_2022_08.parquet already downloaded\n",
      "file taxi_2022_09.parquet already downloaded\n",
      "file taxi_2022_10.parquet already downloaded\n",
      "file taxi_2022_11.parquet already downloaded\n",
      "file taxi_2022_12.parquet already downloaded\n"
     ]
    }
   ],
   "source": [
    "%reload_ext autoreload\n",
    "%autoreload 2\n",
    "from src.data import load_raw_data, transform_to_ts_data\n",
    "raw = load_raw_data(year=2022)\n"
   ]
  },
  {
   "cell_type": "code",
   "execution_count": 87,
   "metadata": {},
   "outputs": [],
   "source": [
    "from src.data import load_raw_data, transform_to_ts_data, transform_ts_data_to_features_and_targets\n"
   ]
  },
  {
   "cell_type": "code",
   "execution_count": 88,
   "metadata": {},
   "outputs": [
    {
     "data": {
      "text/html": [
       "<div>\n",
       "<style scoped>\n",
       "    .dataframe tbody tr th:only-of-type {\n",
       "        vertical-align: middle;\n",
       "    }\n",
       "\n",
       "    .dataframe tbody tr th {\n",
       "        vertical-align: top;\n",
       "    }\n",
       "\n",
       "    .dataframe thead th {\n",
       "        text-align: right;\n",
       "    }\n",
       "</style>\n",
       "<table border=\"1\" class=\"dataframe\">\n",
       "  <thead>\n",
       "    <tr style=\"text-align: right;\">\n",
       "      <th></th>\n",
       "      <th>PU_datetime</th>\n",
       "      <th>PU_location</th>\n",
       "    </tr>\n",
       "  </thead>\n",
       "  <tbody>\n",
       "    <tr>\n",
       "      <th>0</th>\n",
       "      <td>2022-01-01 00:35:40</td>\n",
       "      <td>142</td>\n",
       "    </tr>\n",
       "    <tr>\n",
       "      <th>1</th>\n",
       "      <td>2022-01-01 00:33:43</td>\n",
       "      <td>236</td>\n",
       "    </tr>\n",
       "    <tr>\n",
       "      <th>2</th>\n",
       "      <td>2022-01-01 00:53:21</td>\n",
       "      <td>166</td>\n",
       "    </tr>\n",
       "    <tr>\n",
       "      <th>3</th>\n",
       "      <td>2022-01-01 00:25:21</td>\n",
       "      <td>114</td>\n",
       "    </tr>\n",
       "    <tr>\n",
       "      <th>4</th>\n",
       "      <td>2022-01-01 00:36:48</td>\n",
       "      <td>68</td>\n",
       "    </tr>\n",
       "  </tbody>\n",
       "</table>\n",
       "</div>"
      ],
      "text/plain": [
       "          PU_datetime  PU_location\n",
       "0 2022-01-01 00:35:40          142\n",
       "1 2022-01-01 00:33:43          236\n",
       "2 2022-01-01 00:53:21          166\n",
       "3 2022-01-01 00:25:21          114\n",
       "4 2022-01-01 00:36:48           68"
      ]
     },
     "execution_count": 88,
     "metadata": {},
     "output_type": "execute_result"
    }
   ],
   "source": [
    "raw.head()"
   ]
  },
  {
   "cell_type": "code",
   "execution_count": 89,
   "metadata": {},
   "outputs": [
    {
     "name": "stderr",
     "output_type": "stream",
     "text": [
      "100%|██████████| 262/262 [00:07<00:00, 34.37it/s]\n"
     ]
    }
   ],
   "source": [
    "transformed = transform_to_ts_data(raw)"
   ]
  },
  {
   "cell_type": "code",
   "execution_count": 91,
   "metadata": {},
   "outputs": [
    {
     "name": "stderr",
     "output_type": "stream",
     "text": [
      "100%|██████████| 262/262 [01:53<00:00,  2.30it/s]\n"
     ]
    }
   ],
   "source": [
    "from src.data import load_raw_data, transform_to_ts_data, transform_ts_data_to_features_and_targets\n",
    "\n",
    "features,targets = transform_ts_data_to_features_and_targets(transformed, 24*28*1, 24)"
   ]
  },
  {
   "cell_type": "code",
   "execution_count": 92,
   "metadata": {},
   "outputs": [
    {
     "name": "stdout",
     "output_type": "stream",
     "text": [
      "no of features (88294, 674)\n",
      "no of targets (88294,)\n"
     ]
    }
   ],
   "source": [
    "print('no of features',features.shape)\n",
    "print('no of targets',targets.shape)\n"
   ]
  },
  {
   "cell_type": "code",
   "execution_count": 93,
   "metadata": {},
   "outputs": [],
   "source": [
    "from src.paths import TRANSFORMED_DATA_DIR\n",
    "\n",
    "tabular = features\n",
    "tabular['target_next_hour'] = targets\n",
    "\n",
    "tabular.to_parquet(TRANSFORMED_DATA_DIR/ 'transformed_tabular_data.parquet')"
   ]
  }
 ],
 "metadata": {
  "kernelspec": {
   "display_name": "src-Dl7-AU2p-py3.10",
   "language": "python",
   "name": "python3"
  },
  "language_info": {
   "codemirror_mode": {
    "name": "ipython",
    "version": 3
   },
   "file_extension": ".py",
   "mimetype": "text/x-python",
   "name": "python",
   "nbconvert_exporter": "python",
   "pygments_lexer": "ipython3",
   "version": "3.10.9"
  },
  "orig_nbformat": 4
 },
 "nbformat": 4,
 "nbformat_minor": 2
}
