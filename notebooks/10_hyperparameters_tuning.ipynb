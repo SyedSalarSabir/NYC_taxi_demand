{
 "cells": [
  {
   "cell_type": "code",
   "execution_count": 5,
   "metadata": {},
   "outputs": [],
   "source": [
    "import warnings\n",
    "warnings.filterwarnings('ignore')"
   ]
  },
  {
   "cell_type": "code",
   "execution_count": 1,
   "metadata": {},
   "outputs": [],
   "source": [
    "import sys\n",
    "sys.path.insert(0,'E:/repos/my_projects/taxi_demand_project')\n",
    "from src.paths import TRANSFORMED_DATA_DIR\n",
    "import pandas as pd\n",
    "from src.data_split import train_test_split"
   ]
  },
  {
   "cell_type": "code",
   "execution_count": 2,
   "metadata": {},
   "outputs": [
    {
     "data": {
      "text/html": [
       "<div>\n",
       "<style scoped>\n",
       "    .dataframe tbody tr th:only-of-type {\n",
       "        vertical-align: middle;\n",
       "    }\n",
       "\n",
       "    .dataframe tbody tr th {\n",
       "        vertical-align: top;\n",
       "    }\n",
       "\n",
       "    .dataframe thead th {\n",
       "        text-align: right;\n",
       "    }\n",
       "</style>\n",
       "<table border=\"1\" class=\"dataframe\">\n",
       "  <thead>\n",
       "    <tr style=\"text-align: right;\">\n",
       "      <th></th>\n",
       "      <th>rides_672_hr_before</th>\n",
       "      <th>rides_671_hr_before</th>\n",
       "      <th>rides_670_hr_before</th>\n",
       "      <th>rides_669_hr_before</th>\n",
       "      <th>rides_668_hr_before</th>\n",
       "      <th>rides_667_hr_before</th>\n",
       "      <th>rides_666_hr_before</th>\n",
       "      <th>rides_665_hr_before</th>\n",
       "      <th>rides_664_hr_before</th>\n",
       "      <th>rides_663_hr_before</th>\n",
       "      <th>...</th>\n",
       "      <th>rides_7_hr_before</th>\n",
       "      <th>rides_6_hr_before</th>\n",
       "      <th>rides_5_hr_before</th>\n",
       "      <th>rides_4_hr_before</th>\n",
       "      <th>rides_3_hr_before</th>\n",
       "      <th>rides_2_hr_before</th>\n",
       "      <th>rides_1_hr_before</th>\n",
       "      <th>PU_location</th>\n",
       "      <th>PU_hour</th>\n",
       "      <th>target_next_hour</th>\n",
       "    </tr>\n",
       "  </thead>\n",
       "  <tbody>\n",
       "    <tr>\n",
       "      <th>0</th>\n",
       "      <td>11.0</td>\n",
       "      <td>15.0</td>\n",
       "      <td>26.0</td>\n",
       "      <td>8.0</td>\n",
       "      <td>9.0</td>\n",
       "      <td>7.0</td>\n",
       "      <td>3.0</td>\n",
       "      <td>1.0</td>\n",
       "      <td>0.0</td>\n",
       "      <td>3.0</td>\n",
       "      <td>...</td>\n",
       "      <td>11.0</td>\n",
       "      <td>7.0</td>\n",
       "      <td>4.0</td>\n",
       "      <td>3.0</td>\n",
       "      <td>4.0</td>\n",
       "      <td>9.0</td>\n",
       "      <td>19.0</td>\n",
       "      <td>4</td>\n",
       "      <td>2022-01-29</td>\n",
       "      <td>17.0</td>\n",
       "    </tr>\n",
       "    <tr>\n",
       "      <th>1</th>\n",
       "      <td>1.0</td>\n",
       "      <td>0.0</td>\n",
       "      <td>2.0</td>\n",
       "      <td>0.0</td>\n",
       "      <td>0.0</td>\n",
       "      <td>0.0</td>\n",
       "      <td>0.0</td>\n",
       "      <td>0.0</td>\n",
       "      <td>1.0</td>\n",
       "      <td>1.0</td>\n",
       "      <td>...</td>\n",
       "      <td>5.0</td>\n",
       "      <td>4.0</td>\n",
       "      <td>10.0</td>\n",
       "      <td>7.0</td>\n",
       "      <td>5.0</td>\n",
       "      <td>9.0</td>\n",
       "      <td>10.0</td>\n",
       "      <td>4</td>\n",
       "      <td>2022-01-30</td>\n",
       "      <td>9.0</td>\n",
       "    </tr>\n",
       "    <tr>\n",
       "      <th>2</th>\n",
       "      <td>0.0</td>\n",
       "      <td>1.0</td>\n",
       "      <td>0.0</td>\n",
       "      <td>0.0</td>\n",
       "      <td>1.0</td>\n",
       "      <td>1.0</td>\n",
       "      <td>1.0</td>\n",
       "      <td>3.0</td>\n",
       "      <td>2.0</td>\n",
       "      <td>3.0</td>\n",
       "      <td>...</td>\n",
       "      <td>8.0</td>\n",
       "      <td>7.0</td>\n",
       "      <td>8.0</td>\n",
       "      <td>5.0</td>\n",
       "      <td>5.0</td>\n",
       "      <td>10.0</td>\n",
       "      <td>0.0</td>\n",
       "      <td>4</td>\n",
       "      <td>2022-01-31</td>\n",
       "      <td>3.0</td>\n",
       "    </tr>\n",
       "    <tr>\n",
       "      <th>3</th>\n",
       "      <td>1.0</td>\n",
       "      <td>1.0</td>\n",
       "      <td>0.0</td>\n",
       "      <td>0.0</td>\n",
       "      <td>0.0</td>\n",
       "      <td>3.0</td>\n",
       "      <td>2.0</td>\n",
       "      <td>3.0</td>\n",
       "      <td>4.0</td>\n",
       "      <td>5.0</td>\n",
       "      <td>...</td>\n",
       "      <td>3.0</td>\n",
       "      <td>16.0</td>\n",
       "      <td>7.0</td>\n",
       "      <td>1.0</td>\n",
       "      <td>0.0</td>\n",
       "      <td>1.0</td>\n",
       "      <td>3.0</td>\n",
       "      <td>4</td>\n",
       "      <td>2022-02-01</td>\n",
       "      <td>3.0</td>\n",
       "    </tr>\n",
       "    <tr>\n",
       "      <th>4</th>\n",
       "      <td>0.0</td>\n",
       "      <td>0.0</td>\n",
       "      <td>0.0</td>\n",
       "      <td>0.0</td>\n",
       "      <td>0.0</td>\n",
       "      <td>0.0</td>\n",
       "      <td>3.0</td>\n",
       "      <td>4.0</td>\n",
       "      <td>1.0</td>\n",
       "      <td>2.0</td>\n",
       "      <td>...</td>\n",
       "      <td>3.0</td>\n",
       "      <td>8.0</td>\n",
       "      <td>3.0</td>\n",
       "      <td>0.0</td>\n",
       "      <td>4.0</td>\n",
       "      <td>4.0</td>\n",
       "      <td>3.0</td>\n",
       "      <td>4</td>\n",
       "      <td>2022-02-02</td>\n",
       "      <td>1.0</td>\n",
       "    </tr>\n",
       "    <tr>\n",
       "      <th>...</th>\n",
       "      <td>...</td>\n",
       "      <td>...</td>\n",
       "      <td>...</td>\n",
       "      <td>...</td>\n",
       "      <td>...</td>\n",
       "      <td>...</td>\n",
       "      <td>...</td>\n",
       "      <td>...</td>\n",
       "      <td>...</td>\n",
       "      <td>...</td>\n",
       "      <td>...</td>\n",
       "      <td>...</td>\n",
       "      <td>...</td>\n",
       "      <td>...</td>\n",
       "      <td>...</td>\n",
       "      <td>...</td>\n",
       "      <td>...</td>\n",
       "      <td>...</td>\n",
       "      <td>...</td>\n",
       "      <td>...</td>\n",
       "      <td>...</td>\n",
       "    </tr>\n",
       "    <tr>\n",
       "      <th>88289</th>\n",
       "      <td>0.0</td>\n",
       "      <td>0.0</td>\n",
       "      <td>0.0</td>\n",
       "      <td>0.0</td>\n",
       "      <td>0.0</td>\n",
       "      <td>0.0</td>\n",
       "      <td>0.0</td>\n",
       "      <td>0.0</td>\n",
       "      <td>0.0</td>\n",
       "      <td>0.0</td>\n",
       "      <td>...</td>\n",
       "      <td>0.0</td>\n",
       "      <td>0.0</td>\n",
       "      <td>0.0</td>\n",
       "      <td>0.0</td>\n",
       "      <td>0.0</td>\n",
       "      <td>0.0</td>\n",
       "      <td>0.0</td>\n",
       "      <td>199</td>\n",
       "      <td>2022-12-27</td>\n",
       "      <td>0.0</td>\n",
       "    </tr>\n",
       "    <tr>\n",
       "      <th>88290</th>\n",
       "      <td>0.0</td>\n",
       "      <td>0.0</td>\n",
       "      <td>0.0</td>\n",
       "      <td>0.0</td>\n",
       "      <td>0.0</td>\n",
       "      <td>0.0</td>\n",
       "      <td>0.0</td>\n",
       "      <td>0.0</td>\n",
       "      <td>0.0</td>\n",
       "      <td>0.0</td>\n",
       "      <td>...</td>\n",
       "      <td>0.0</td>\n",
       "      <td>0.0</td>\n",
       "      <td>0.0</td>\n",
       "      <td>0.0</td>\n",
       "      <td>0.0</td>\n",
       "      <td>0.0</td>\n",
       "      <td>0.0</td>\n",
       "      <td>199</td>\n",
       "      <td>2022-12-28</td>\n",
       "      <td>0.0</td>\n",
       "    </tr>\n",
       "    <tr>\n",
       "      <th>88291</th>\n",
       "      <td>0.0</td>\n",
       "      <td>0.0</td>\n",
       "      <td>0.0</td>\n",
       "      <td>0.0</td>\n",
       "      <td>0.0</td>\n",
       "      <td>0.0</td>\n",
       "      <td>0.0</td>\n",
       "      <td>0.0</td>\n",
       "      <td>0.0</td>\n",
       "      <td>0.0</td>\n",
       "      <td>...</td>\n",
       "      <td>0.0</td>\n",
       "      <td>0.0</td>\n",
       "      <td>0.0</td>\n",
       "      <td>0.0</td>\n",
       "      <td>0.0</td>\n",
       "      <td>0.0</td>\n",
       "      <td>0.0</td>\n",
       "      <td>199</td>\n",
       "      <td>2022-12-29</td>\n",
       "      <td>0.0</td>\n",
       "    </tr>\n",
       "    <tr>\n",
       "      <th>88292</th>\n",
       "      <td>0.0</td>\n",
       "      <td>0.0</td>\n",
       "      <td>0.0</td>\n",
       "      <td>0.0</td>\n",
       "      <td>0.0</td>\n",
       "      <td>0.0</td>\n",
       "      <td>0.0</td>\n",
       "      <td>0.0</td>\n",
       "      <td>0.0</td>\n",
       "      <td>0.0</td>\n",
       "      <td>...</td>\n",
       "      <td>0.0</td>\n",
       "      <td>0.0</td>\n",
       "      <td>0.0</td>\n",
       "      <td>0.0</td>\n",
       "      <td>0.0</td>\n",
       "      <td>0.0</td>\n",
       "      <td>0.0</td>\n",
       "      <td>199</td>\n",
       "      <td>2022-12-30</td>\n",
       "      <td>0.0</td>\n",
       "    </tr>\n",
       "    <tr>\n",
       "      <th>88293</th>\n",
       "      <td>0.0</td>\n",
       "      <td>0.0</td>\n",
       "      <td>0.0</td>\n",
       "      <td>0.0</td>\n",
       "      <td>0.0</td>\n",
       "      <td>0.0</td>\n",
       "      <td>0.0</td>\n",
       "      <td>0.0</td>\n",
       "      <td>0.0</td>\n",
       "      <td>0.0</td>\n",
       "      <td>...</td>\n",
       "      <td>0.0</td>\n",
       "      <td>0.0</td>\n",
       "      <td>0.0</td>\n",
       "      <td>0.0</td>\n",
       "      <td>0.0</td>\n",
       "      <td>0.0</td>\n",
       "      <td>0.0</td>\n",
       "      <td>199</td>\n",
       "      <td>2022-12-31</td>\n",
       "      <td>0.0</td>\n",
       "    </tr>\n",
       "  </tbody>\n",
       "</table>\n",
       "<p>88294 rows × 675 columns</p>\n",
       "</div>"
      ],
      "text/plain": [
       "       rides_672_hr_before  rides_671_hr_before  rides_670_hr_before  \\\n",
       "0                     11.0                 15.0                 26.0   \n",
       "1                      1.0                  0.0                  2.0   \n",
       "2                      0.0                  1.0                  0.0   \n",
       "3                      1.0                  1.0                  0.0   \n",
       "4                      0.0                  0.0                  0.0   \n",
       "...                    ...                  ...                  ...   \n",
       "88289                  0.0                  0.0                  0.0   \n",
       "88290                  0.0                  0.0                  0.0   \n",
       "88291                  0.0                  0.0                  0.0   \n",
       "88292                  0.0                  0.0                  0.0   \n",
       "88293                  0.0                  0.0                  0.0   \n",
       "\n",
       "       rides_669_hr_before  rides_668_hr_before  rides_667_hr_before  \\\n",
       "0                      8.0                  9.0                  7.0   \n",
       "1                      0.0                  0.0                  0.0   \n",
       "2                      0.0                  1.0                  1.0   \n",
       "3                      0.0                  0.0                  3.0   \n",
       "4                      0.0                  0.0                  0.0   \n",
       "...                    ...                  ...                  ...   \n",
       "88289                  0.0                  0.0                  0.0   \n",
       "88290                  0.0                  0.0                  0.0   \n",
       "88291                  0.0                  0.0                  0.0   \n",
       "88292                  0.0                  0.0                  0.0   \n",
       "88293                  0.0                  0.0                  0.0   \n",
       "\n",
       "       rides_666_hr_before  rides_665_hr_before  rides_664_hr_before  \\\n",
       "0                      3.0                  1.0                  0.0   \n",
       "1                      0.0                  0.0                  1.0   \n",
       "2                      1.0                  3.0                  2.0   \n",
       "3                      2.0                  3.0                  4.0   \n",
       "4                      3.0                  4.0                  1.0   \n",
       "...                    ...                  ...                  ...   \n",
       "88289                  0.0                  0.0                  0.0   \n",
       "88290                  0.0                  0.0                  0.0   \n",
       "88291                  0.0                  0.0                  0.0   \n",
       "88292                  0.0                  0.0                  0.0   \n",
       "88293                  0.0                  0.0                  0.0   \n",
       "\n",
       "       rides_663_hr_before  ...  rides_7_hr_before  rides_6_hr_before  \\\n",
       "0                      3.0  ...               11.0                7.0   \n",
       "1                      1.0  ...                5.0                4.0   \n",
       "2                      3.0  ...                8.0                7.0   \n",
       "3                      5.0  ...                3.0               16.0   \n",
       "4                      2.0  ...                3.0                8.0   \n",
       "...                    ...  ...                ...                ...   \n",
       "88289                  0.0  ...                0.0                0.0   \n",
       "88290                  0.0  ...                0.0                0.0   \n",
       "88291                  0.0  ...                0.0                0.0   \n",
       "88292                  0.0  ...                0.0                0.0   \n",
       "88293                  0.0  ...                0.0                0.0   \n",
       "\n",
       "       rides_5_hr_before  rides_4_hr_before  rides_3_hr_before  \\\n",
       "0                    4.0                3.0                4.0   \n",
       "1                   10.0                7.0                5.0   \n",
       "2                    8.0                5.0                5.0   \n",
       "3                    7.0                1.0                0.0   \n",
       "4                    3.0                0.0                4.0   \n",
       "...                  ...                ...                ...   \n",
       "88289                0.0                0.0                0.0   \n",
       "88290                0.0                0.0                0.0   \n",
       "88291                0.0                0.0                0.0   \n",
       "88292                0.0                0.0                0.0   \n",
       "88293                0.0                0.0                0.0   \n",
       "\n",
       "       rides_2_hr_before  rides_1_hr_before  PU_location    PU_hour  \\\n",
       "0                    9.0               19.0            4 2022-01-29   \n",
       "1                    9.0               10.0            4 2022-01-30   \n",
       "2                   10.0                0.0            4 2022-01-31   \n",
       "3                    1.0                3.0            4 2022-02-01   \n",
       "4                    4.0                3.0            4 2022-02-02   \n",
       "...                  ...                ...          ...        ...   \n",
       "88289                0.0                0.0          199 2022-12-27   \n",
       "88290                0.0                0.0          199 2022-12-28   \n",
       "88291                0.0                0.0          199 2022-12-29   \n",
       "88292                0.0                0.0          199 2022-12-30   \n",
       "88293                0.0                0.0          199 2022-12-31   \n",
       "\n",
       "       target_next_hour  \n",
       "0                  17.0  \n",
       "1                   9.0  \n",
       "2                   3.0  \n",
       "3                   3.0  \n",
       "4                   1.0  \n",
       "...                 ...  \n",
       "88289               0.0  \n",
       "88290               0.0  \n",
       "88291               0.0  \n",
       "88292               0.0  \n",
       "88293               0.0  \n",
       "\n",
       "[88294 rows x 675 columns]"
      ]
     },
     "execution_count": 2,
     "metadata": {},
     "output_type": "execute_result"
    }
   ],
   "source": [
    "ts_data = pd.read_parquet(TRANSFORMED_DATA_DIR/'transformed_tabular_data.parquet')\n",
    "ts_data"
   ]
  },
  {
   "cell_type": "code",
   "execution_count": 3,
   "metadata": {},
   "outputs": [
    {
     "name": "stdout",
     "output_type": "stream",
     "text": [
      "2022-06-01\n"
     ]
    }
   ],
   "source": [
    "X_train,X_test,y_train,y_test= train_test_split(ts_data=ts_data,\n",
    "                                cut_off_year=2022,\n",
    "                                cut_off_month=6, cut_off_day= 1,\n",
    "                                target_column='target_next_hour')\n"
   ]
  },
  {
   "cell_type": "code",
   "execution_count": 8,
   "metadata": {},
   "outputs": [],
   "source": [
    "from sklearn.model_selection import KFold, TimeSeriesSplit\n",
    "from sklearn.pipeline import make_pipeline,Pipeline\n",
    "from sklearn.metrics import mean_absolute_error as mae\n",
    "import optuna\n",
    "import numpy as np\n",
    "from src.model import training_pipeline"
   ]
  },
  {
   "cell_type": "code",
   "execution_count": 17,
   "metadata": {},
   "outputs": [],
   "source": [
    "def objective(trial : optuna.trial.Trial)-> float:\n",
    "\n",
    "    objective_hyperparameters= {\n",
    "        \"metric\": 'mae',\n",
    "        \"verbose\": -1,\n",
    "        \"num_leaves\": trial.suggest_int(\"num_leaves\", 2, 256),\n",
    "        \"feature_fraction\": trial.suggest_float(\"feature_fraction\", 0.2, 1.0),\n",
    "        \"bagging_fraction\": trial.suggest_float(\"bagging_fraction\", 0.2, 1.0),\n",
    "        \"min_child_samples\": trial.suggest_int(\"min_child_samples\", 3, 100), \n",
    "    }\n",
    "\n",
    "    ts_splits = TimeSeriesSplit(n_splits=2)\n",
    "    scores = []\n",
    "    for train_split, val_split in ts_splits.split(X_train):\n",
    "        \n",
    "        X_train_, X_val_ = X_train.iloc[train_split,:], X_train.iloc[val_split,:]\n",
    "        y_train_, y_val_ = y_train.iloc[train_split], y_train.iloc[val_split]\n",
    "\n",
    "        pipeline = training_pipeline(**objective_hyperparameters)\n",
    "        pipeline.fit(X_train_,y_train_)\n",
    "\n",
    "        preds = pipeline.predict(X_val_)\n",
    "\n",
    "        split_mae = mae(y_pred=preds,y_true=y_val_)\n",
    "\n",
    "        scores.append(split_mae)\n",
    "\n",
    "    return np.array(scores).mean()"
   ]
  },
  {
   "cell_type": "code",
   "execution_count": 18,
   "metadata": {},
   "outputs": [
    {
     "name": "stderr",
     "output_type": "stream",
     "text": [
      "[I 2023-06-13 23:04:04,815] A new study created in memory with name: no-name-6d120d7b-0296-416b-bf3e-1ab6ae3798e7\n"
     ]
    },
    {
     "name": "stderr",
     "output_type": "stream",
     "text": [
      "[I 2023-06-13 23:04:37,712] Trial 0 finished with value: 0.6199376337989743 and parameters: {'num_leaves': 183, 'feature_fraction': 0.5420734063472846, 'bagging_fraction': 0.43401877324410737, 'min_child_samples': 100}. Best is trial 0 with value: 0.6199376337989743.\n",
      "[I 2023-06-13 23:05:10,296] Trial 1 finished with value: 0.6199376337989743 and parameters: {'num_leaves': 50, 'feature_fraction': 0.5601892708422835, 'bagging_fraction': 0.33180524332040395, 'min_child_samples': 17}. Best is trial 0 with value: 0.6199376337989743.\n",
      "[I 2023-06-13 23:05:39,624] Trial 2 finished with value: 0.6199376337989743 and parameters: {'num_leaves': 204, 'feature_fraction': 0.6864206505134138, 'bagging_fraction': 0.48154557655841757, 'min_child_samples': 28}. Best is trial 0 with value: 0.6199376337989743.\n",
      "[I 2023-06-13 23:06:11,718] Trial 3 finished with value: 0.6199376337989743 and parameters: {'num_leaves': 66, 'feature_fraction': 0.8155964359478809, 'bagging_fraction': 0.6416894801219963, 'min_child_samples': 76}. Best is trial 0 with value: 0.6199376337989743.\n"
     ]
    }
   ],
   "source": [
    "study = optuna.create_study(direction='minimize')\n",
    "study.optimize(objective,n_trials=4)"
   ]
  },
  {
   "cell_type": "code",
   "execution_count": 19,
   "metadata": {},
   "outputs": [],
   "source": [
    "params = study.best_trial.params\n",
    "best_pipeline = training_pipeline(**params)"
   ]
  },
  {
   "cell_type": "code",
   "execution_count": 20,
   "metadata": {},
   "outputs": [
    {
     "data": {
      "text/html": [
       "<style>#sk-container-id-1 {color: black;background-color: white;}#sk-container-id-1 pre{padding: 0;}#sk-container-id-1 div.sk-toggleable {background-color: white;}#sk-container-id-1 label.sk-toggleable__label {cursor: pointer;display: block;width: 100%;margin-bottom: 0;padding: 0.3em;box-sizing: border-box;text-align: center;}#sk-container-id-1 label.sk-toggleable__label-arrow:before {content: \"▸\";float: left;margin-right: 0.25em;color: #696969;}#sk-container-id-1 label.sk-toggleable__label-arrow:hover:before {color: black;}#sk-container-id-1 div.sk-estimator:hover label.sk-toggleable__label-arrow:before {color: black;}#sk-container-id-1 div.sk-toggleable__content {max-height: 0;max-width: 0;overflow: hidden;text-align: left;background-color: #f0f8ff;}#sk-container-id-1 div.sk-toggleable__content pre {margin: 0.2em;color: black;border-radius: 0.25em;background-color: #f0f8ff;}#sk-container-id-1 input.sk-toggleable__control:checked~div.sk-toggleable__content {max-height: 200px;max-width: 100%;overflow: auto;}#sk-container-id-1 input.sk-toggleable__control:checked~label.sk-toggleable__label-arrow:before {content: \"▾\";}#sk-container-id-1 div.sk-estimator input.sk-toggleable__control:checked~label.sk-toggleable__label {background-color: #d4ebff;}#sk-container-id-1 div.sk-label input.sk-toggleable__control:checked~label.sk-toggleable__label {background-color: #d4ebff;}#sk-container-id-1 input.sk-hidden--visually {border: 0;clip: rect(1px 1px 1px 1px);clip: rect(1px, 1px, 1px, 1px);height: 1px;margin: -1px;overflow: hidden;padding: 0;position: absolute;width: 1px;}#sk-container-id-1 div.sk-estimator {font-family: monospace;background-color: #f0f8ff;border: 1px dotted black;border-radius: 0.25em;box-sizing: border-box;margin-bottom: 0.5em;}#sk-container-id-1 div.sk-estimator:hover {background-color: #d4ebff;}#sk-container-id-1 div.sk-parallel-item::after {content: \"\";width: 100%;border-bottom: 1px solid gray;flex-grow: 1;}#sk-container-id-1 div.sk-label:hover label.sk-toggleable__label {background-color: #d4ebff;}#sk-container-id-1 div.sk-serial::before {content: \"\";position: absolute;border-left: 1px solid gray;box-sizing: border-box;top: 0;bottom: 0;left: 50%;z-index: 0;}#sk-container-id-1 div.sk-serial {display: flex;flex-direction: column;align-items: center;background-color: white;padding-right: 0.2em;padding-left: 0.2em;position: relative;}#sk-container-id-1 div.sk-item {position: relative;z-index: 1;}#sk-container-id-1 div.sk-parallel {display: flex;align-items: stretch;justify-content: center;background-color: white;position: relative;}#sk-container-id-1 div.sk-item::before, #sk-container-id-1 div.sk-parallel-item::before {content: \"\";position: absolute;border-left: 1px solid gray;box-sizing: border-box;top: 0;bottom: 0;left: 50%;z-index: -1;}#sk-container-id-1 div.sk-parallel-item {display: flex;flex-direction: column;z-index: 1;position: relative;background-color: white;}#sk-container-id-1 div.sk-parallel-item:first-child::after {align-self: flex-end;width: 50%;}#sk-container-id-1 div.sk-parallel-item:last-child::after {align-self: flex-start;width: 50%;}#sk-container-id-1 div.sk-parallel-item:only-child::after {width: 0;}#sk-container-id-1 div.sk-dashed-wrapped {border: 1px dashed gray;margin: 0 0.4em 0.5em 0.4em;box-sizing: border-box;padding-bottom: 0.4em;background-color: white;}#sk-container-id-1 div.sk-label label {font-family: monospace;font-weight: bold;display: inline-block;line-height: 1.2em;}#sk-container-id-1 div.sk-label-container {text-align: center;}#sk-container-id-1 div.sk-container {/* jupyter's `normalize.less` sets `[hidden] { display: none; }` but bootstrap.min.css set `[hidden] { display: none !important; }` so we also need the `!important` here to be able to override the default hidden behavior on the sphinx rendered scikit-learn.org. See: https://github.com/scikit-learn/scikit-learn/issues/21755 */display: inline-block !important;position: relative;}#sk-container-id-1 div.sk-text-repr-fallback {display: none;}</style><div id=\"sk-container-id-1\" class=\"sk-top-container\"><div class=\"sk-text-repr-fallback\"><pre>Pipeline(steps=[(&#x27;functiontransformer&#x27;,\n",
       "                 FunctionTransformer(func=&lt;function average_4_week_rides at 0x0000022FBBD5C3A0&gt;)),\n",
       "                (&#x27;temporalfeatureengineering&#x27;, TemporalFeatureEngineering()),\n",
       "                (&#x27;lgbmregressor&#x27;, LGBMRegressor())])</pre><b>In a Jupyter environment, please rerun this cell to show the HTML representation or trust the notebook. <br />On GitHub, the HTML representation is unable to render, please try loading this page with nbviewer.org.</b></div><div class=\"sk-container\" hidden><div class=\"sk-item sk-dashed-wrapped\"><div class=\"sk-label-container\"><div class=\"sk-label sk-toggleable\"><input class=\"sk-toggleable__control sk-hidden--visually\" id=\"sk-estimator-id-1\" type=\"checkbox\" ><label for=\"sk-estimator-id-1\" class=\"sk-toggleable__label sk-toggleable__label-arrow\">Pipeline</label><div class=\"sk-toggleable__content\"><pre>Pipeline(steps=[(&#x27;functiontransformer&#x27;,\n",
       "                 FunctionTransformer(func=&lt;function average_4_week_rides at 0x0000022FBBD5C3A0&gt;)),\n",
       "                (&#x27;temporalfeatureengineering&#x27;, TemporalFeatureEngineering()),\n",
       "                (&#x27;lgbmregressor&#x27;, LGBMRegressor())])</pre></div></div></div><div class=\"sk-serial\"><div class=\"sk-item\"><div class=\"sk-estimator sk-toggleable\"><input class=\"sk-toggleable__control sk-hidden--visually\" id=\"sk-estimator-id-2\" type=\"checkbox\" ><label for=\"sk-estimator-id-2\" class=\"sk-toggleable__label sk-toggleable__label-arrow\">FunctionTransformer</label><div class=\"sk-toggleable__content\"><pre>FunctionTransformer(func=&lt;function average_4_week_rides at 0x0000022FBBD5C3A0&gt;)</pre></div></div></div><div class=\"sk-item\"><div class=\"sk-estimator sk-toggleable\"><input class=\"sk-toggleable__control sk-hidden--visually\" id=\"sk-estimator-id-3\" type=\"checkbox\" ><label for=\"sk-estimator-id-3\" class=\"sk-toggleable__label sk-toggleable__label-arrow\">TemporalFeatureEngineering</label><div class=\"sk-toggleable__content\"><pre>TemporalFeatureEngineering()</pre></div></div></div><div class=\"sk-item\"><div class=\"sk-estimator sk-toggleable\"><input class=\"sk-toggleable__control sk-hidden--visually\" id=\"sk-estimator-id-4\" type=\"checkbox\" ><label for=\"sk-estimator-id-4\" class=\"sk-toggleable__label sk-toggleable__label-arrow\">LGBMRegressor</label><div class=\"sk-toggleable__content\"><pre>LGBMRegressor()</pre></div></div></div></div></div></div></div>"
      ],
      "text/plain": [
       "Pipeline(steps=[('functiontransformer',\n",
       "                 FunctionTransformer(func=<function average_4_week_rides at 0x0000022FBBD5C3A0>)),\n",
       "                ('temporalfeatureengineering', TemporalFeatureEngineering()),\n",
       "                ('lgbmregressor', LGBMRegressor())])"
      ]
     },
     "execution_count": 20,
     "metadata": {},
     "output_type": "execute_result"
    }
   ],
   "source": [
    "best_pipeline.fit(X_train,y_train)"
   ]
  },
  {
   "cell_type": "code",
   "execution_count": 21,
   "metadata": {},
   "outputs": [
    {
     "name": "stdout",
     "output_type": "stream",
     "text": [
      "2.5975496881505826\n"
     ]
    }
   ],
   "source": [
    "preds= best_pipeline.predict(X_test)\n",
    "\n",
    "print(mae(y_true=y_test,y_pred=preds))"
   ]
  },
  {
   "cell_type": "code",
   "execution_count": 37,
   "metadata": {},
   "outputs": [],
   "source": [
    "%reload_ext autoreload\n",
    "%autoreload 2\n",
    "from src.plot import plot_one_example\n"
   ]
  },
  {
   "cell_type": "code",
   "execution_count": 44,
   "metadata": {},
   "outputs": [
    {
     "data": {
      "application/vnd.plotly.v1+json": {
       "config": {
        "plotlyServerURL": "https://plot.ly"
       },
       "data": [
        {
         "hovertemplate": "x=%{x}<br>y=%{y}<extra></extra>",
         "legendgroup": "",
         "line": {
          "color": "#636efa",
          "dash": "solid"
         },
         "marker": {
          "symbol": "circle"
         },
         "mode": "lines+markers",
         "name": "",
         "orientation": "v",
         "showlegend": false,
         "type": "scatter",
         "x": [
          "2022-08-20T00:00:00",
          "2022-08-20T01:00:00",
          "2022-08-20T02:00:00",
          "2022-08-20T03:00:00",
          "2022-08-20T04:00:00",
          "2022-08-20T05:00:00",
          "2022-08-20T06:00:00",
          "2022-08-20T07:00:00",
          "2022-08-20T08:00:00",
          "2022-08-20T09:00:00",
          "2022-08-20T10:00:00",
          "2022-08-20T11:00:00",
          "2022-08-20T12:00:00",
          "2022-08-20T13:00:00",
          "2022-08-20T14:00:00",
          "2022-08-20T15:00:00",
          "2022-08-20T16:00:00",
          "2022-08-20T17:00:00",
          "2022-08-20T18:00:00",
          "2022-08-20T19:00:00",
          "2022-08-20T20:00:00",
          "2022-08-20T21:00:00",
          "2022-08-20T22:00:00",
          "2022-08-20T23:00:00",
          "2022-08-21T00:00:00",
          "2022-08-21T01:00:00",
          "2022-08-21T02:00:00",
          "2022-08-21T03:00:00",
          "2022-08-21T04:00:00",
          "2022-08-21T05:00:00",
          "2022-08-21T06:00:00",
          "2022-08-21T07:00:00",
          "2022-08-21T08:00:00",
          "2022-08-21T09:00:00",
          "2022-08-21T10:00:00",
          "2022-08-21T11:00:00",
          "2022-08-21T12:00:00",
          "2022-08-21T13:00:00",
          "2022-08-21T14:00:00",
          "2022-08-21T15:00:00",
          "2022-08-21T16:00:00",
          "2022-08-21T17:00:00",
          "2022-08-21T18:00:00",
          "2022-08-21T19:00:00",
          "2022-08-21T20:00:00",
          "2022-08-21T21:00:00",
          "2022-08-21T22:00:00",
          "2022-08-21T23:00:00",
          "2022-08-22T00:00:00",
          "2022-08-22T01:00:00",
          "2022-08-22T02:00:00",
          "2022-08-22T03:00:00",
          "2022-08-22T04:00:00",
          "2022-08-22T05:00:00",
          "2022-08-22T06:00:00",
          "2022-08-22T07:00:00",
          "2022-08-22T08:00:00",
          "2022-08-22T09:00:00",
          "2022-08-22T10:00:00",
          "2022-08-22T11:00:00",
          "2022-08-22T12:00:00",
          "2022-08-22T13:00:00",
          "2022-08-22T14:00:00",
          "2022-08-22T15:00:00",
          "2022-08-22T16:00:00",
          "2022-08-22T17:00:00",
          "2022-08-22T18:00:00",
          "2022-08-22T19:00:00",
          "2022-08-22T20:00:00",
          "2022-08-22T21:00:00",
          "2022-08-22T22:00:00",
          "2022-08-22T23:00:00",
          "2022-08-23T00:00:00",
          "2022-08-23T01:00:00",
          "2022-08-23T02:00:00",
          "2022-08-23T03:00:00",
          "2022-08-23T04:00:00",
          "2022-08-23T05:00:00",
          "2022-08-23T06:00:00",
          "2022-08-23T07:00:00",
          "2022-08-23T08:00:00",
          "2022-08-23T09:00:00",
          "2022-08-23T10:00:00",
          "2022-08-23T11:00:00",
          "2022-08-23T12:00:00",
          "2022-08-23T13:00:00",
          "2022-08-23T14:00:00",
          "2022-08-23T15:00:00",
          "2022-08-23T16:00:00",
          "2022-08-23T17:00:00",
          "2022-08-23T18:00:00",
          "2022-08-23T19:00:00",
          "2022-08-23T20:00:00",
          "2022-08-23T21:00:00",
          "2022-08-23T22:00:00",
          "2022-08-23T23:00:00",
          "2022-08-24T00:00:00",
          "2022-08-24T01:00:00",
          "2022-08-24T02:00:00",
          "2022-08-24T03:00:00",
          "2022-08-24T04:00:00",
          "2022-08-24T05:00:00",
          "2022-08-24T06:00:00",
          "2022-08-24T07:00:00",
          "2022-08-24T08:00:00",
          "2022-08-24T09:00:00",
          "2022-08-24T10:00:00",
          "2022-08-24T11:00:00",
          "2022-08-24T12:00:00",
          "2022-08-24T13:00:00",
          "2022-08-24T14:00:00",
          "2022-08-24T15:00:00",
          "2022-08-24T16:00:00",
          "2022-08-24T17:00:00",
          "2022-08-24T18:00:00",
          "2022-08-24T19:00:00",
          "2022-08-24T20:00:00",
          "2022-08-24T21:00:00",
          "2022-08-24T22:00:00",
          "2022-08-24T23:00:00",
          "2022-08-25T00:00:00",
          "2022-08-25T01:00:00",
          "2022-08-25T02:00:00",
          "2022-08-25T03:00:00",
          "2022-08-25T04:00:00",
          "2022-08-25T05:00:00",
          "2022-08-25T06:00:00",
          "2022-08-25T07:00:00",
          "2022-08-25T08:00:00",
          "2022-08-25T09:00:00",
          "2022-08-25T10:00:00",
          "2022-08-25T11:00:00",
          "2022-08-25T12:00:00",
          "2022-08-25T13:00:00",
          "2022-08-25T14:00:00",
          "2022-08-25T15:00:00",
          "2022-08-25T16:00:00",
          "2022-08-25T17:00:00",
          "2022-08-25T18:00:00",
          "2022-08-25T19:00:00",
          "2022-08-25T20:00:00",
          "2022-08-25T21:00:00",
          "2022-08-25T22:00:00",
          "2022-08-25T23:00:00",
          "2022-08-26T00:00:00",
          "2022-08-26T01:00:00",
          "2022-08-26T02:00:00",
          "2022-08-26T03:00:00",
          "2022-08-26T04:00:00",
          "2022-08-26T05:00:00",
          "2022-08-26T06:00:00",
          "2022-08-26T07:00:00",
          "2022-08-26T08:00:00",
          "2022-08-26T09:00:00",
          "2022-08-26T10:00:00",
          "2022-08-26T11:00:00",
          "2022-08-26T12:00:00",
          "2022-08-26T13:00:00",
          "2022-08-26T14:00:00",
          "2022-08-26T15:00:00",
          "2022-08-26T16:00:00",
          "2022-08-26T17:00:00",
          "2022-08-26T18:00:00",
          "2022-08-26T19:00:00",
          "2022-08-26T20:00:00",
          "2022-08-26T21:00:00",
          "2022-08-26T22:00:00",
          "2022-08-26T23:00:00",
          "2022-08-27T00:00:00",
          "2022-08-27T01:00:00",
          "2022-08-27T02:00:00",
          "2022-08-27T03:00:00",
          "2022-08-27T04:00:00",
          "2022-08-27T05:00:00",
          "2022-08-27T06:00:00",
          "2022-08-27T07:00:00",
          "2022-08-27T08:00:00",
          "2022-08-27T09:00:00",
          "2022-08-27T10:00:00",
          "2022-08-27T11:00:00",
          "2022-08-27T12:00:00",
          "2022-08-27T13:00:00",
          "2022-08-27T14:00:00",
          "2022-08-27T15:00:00",
          "2022-08-27T16:00:00",
          "2022-08-27T17:00:00",
          "2022-08-27T18:00:00",
          "2022-08-27T19:00:00",
          "2022-08-27T20:00:00",
          "2022-08-27T21:00:00",
          "2022-08-27T22:00:00",
          "2022-08-27T23:00:00",
          "2022-08-28T00:00:00",
          "2022-08-28T01:00:00",
          "2022-08-28T02:00:00",
          "2022-08-28T03:00:00",
          "2022-08-28T04:00:00",
          "2022-08-28T05:00:00",
          "2022-08-28T06:00:00",
          "2022-08-28T07:00:00",
          "2022-08-28T08:00:00",
          "2022-08-28T09:00:00",
          "2022-08-28T10:00:00",
          "2022-08-28T11:00:00",
          "2022-08-28T12:00:00",
          "2022-08-28T13:00:00",
          "2022-08-28T14:00:00",
          "2022-08-28T15:00:00",
          "2022-08-28T16:00:00",
          "2022-08-28T17:00:00",
          "2022-08-28T18:00:00",
          "2022-08-28T19:00:00",
          "2022-08-28T20:00:00",
          "2022-08-28T21:00:00",
          "2022-08-28T22:00:00",
          "2022-08-28T23:00:00",
          "2022-08-29T00:00:00",
          "2022-08-29T01:00:00",
          "2022-08-29T02:00:00",
          "2022-08-29T03:00:00",
          "2022-08-29T04:00:00",
          "2022-08-29T05:00:00",
          "2022-08-29T06:00:00",
          "2022-08-29T07:00:00",
          "2022-08-29T08:00:00",
          "2022-08-29T09:00:00",
          "2022-08-29T10:00:00",
          "2022-08-29T11:00:00",
          "2022-08-29T12:00:00",
          "2022-08-29T13:00:00",
          "2022-08-29T14:00:00",
          "2022-08-29T15:00:00",
          "2022-08-29T16:00:00",
          "2022-08-29T17:00:00",
          "2022-08-29T18:00:00",
          "2022-08-29T19:00:00",
          "2022-08-29T20:00:00",
          "2022-08-29T21:00:00",
          "2022-08-29T22:00:00",
          "2022-08-29T23:00:00",
          "2022-08-30T00:00:00",
          "2022-08-30T01:00:00",
          "2022-08-30T02:00:00",
          "2022-08-30T03:00:00",
          "2022-08-30T04:00:00",
          "2022-08-30T05:00:00",
          "2022-08-30T06:00:00",
          "2022-08-30T07:00:00",
          "2022-08-30T08:00:00",
          "2022-08-30T09:00:00",
          "2022-08-30T10:00:00",
          "2022-08-30T11:00:00",
          "2022-08-30T12:00:00",
          "2022-08-30T13:00:00",
          "2022-08-30T14:00:00",
          "2022-08-30T15:00:00",
          "2022-08-30T16:00:00",
          "2022-08-30T17:00:00",
          "2022-08-30T18:00:00",
          "2022-08-30T19:00:00",
          "2022-08-30T20:00:00",
          "2022-08-30T21:00:00",
          "2022-08-30T22:00:00",
          "2022-08-30T23:00:00",
          "2022-08-31T00:00:00",
          "2022-08-31T01:00:00",
          "2022-08-31T02:00:00",
          "2022-08-31T03:00:00",
          "2022-08-31T04:00:00",
          "2022-08-31T05:00:00",
          "2022-08-31T06:00:00",
          "2022-08-31T07:00:00",
          "2022-08-31T08:00:00",
          "2022-08-31T09:00:00",
          "2022-08-31T10:00:00",
          "2022-08-31T11:00:00",
          "2022-08-31T12:00:00",
          "2022-08-31T13:00:00",
          "2022-08-31T14:00:00",
          "2022-08-31T15:00:00",
          "2022-08-31T16:00:00",
          "2022-08-31T17:00:00",
          "2022-08-31T18:00:00",
          "2022-08-31T19:00:00",
          "2022-08-31T20:00:00",
          "2022-08-31T21:00:00",
          "2022-08-31T22:00:00",
          "2022-08-31T23:00:00",
          "2022-09-01T00:00:00",
          "2022-09-01T01:00:00",
          "2022-09-01T02:00:00",
          "2022-09-01T03:00:00",
          "2022-09-01T04:00:00",
          "2022-09-01T05:00:00",
          "2022-09-01T06:00:00",
          "2022-09-01T07:00:00",
          "2022-09-01T08:00:00",
          "2022-09-01T09:00:00",
          "2022-09-01T10:00:00",
          "2022-09-01T11:00:00",
          "2022-09-01T12:00:00",
          "2022-09-01T13:00:00",
          "2022-09-01T14:00:00",
          "2022-09-01T15:00:00",
          "2022-09-01T16:00:00",
          "2022-09-01T17:00:00",
          "2022-09-01T18:00:00",
          "2022-09-01T19:00:00",
          "2022-09-01T20:00:00",
          "2022-09-01T21:00:00",
          "2022-09-01T22:00:00",
          "2022-09-01T23:00:00",
          "2022-09-02T00:00:00",
          "2022-09-02T01:00:00",
          "2022-09-02T02:00:00",
          "2022-09-02T03:00:00",
          "2022-09-02T04:00:00",
          "2022-09-02T05:00:00",
          "2022-09-02T06:00:00",
          "2022-09-02T07:00:00",
          "2022-09-02T08:00:00",
          "2022-09-02T09:00:00",
          "2022-09-02T10:00:00",
          "2022-09-02T11:00:00",
          "2022-09-02T12:00:00",
          "2022-09-02T13:00:00",
          "2022-09-02T14:00:00",
          "2022-09-02T15:00:00",
          "2022-09-02T16:00:00",
          "2022-09-02T17:00:00",
          "2022-09-02T18:00:00",
          "2022-09-02T19:00:00",
          "2022-09-02T20:00:00",
          "2022-09-02T21:00:00",
          "2022-09-02T22:00:00",
          "2022-09-02T23:00:00",
          "2022-09-03T00:00:00",
          "2022-09-03T01:00:00",
          "2022-09-03T02:00:00",
          "2022-09-03T03:00:00",
          "2022-09-03T04:00:00",
          "2022-09-03T05:00:00",
          "2022-09-03T06:00:00",
          "2022-09-03T07:00:00",
          "2022-09-03T08:00:00",
          "2022-09-03T09:00:00",
          "2022-09-03T10:00:00",
          "2022-09-03T11:00:00",
          "2022-09-03T12:00:00",
          "2022-09-03T13:00:00",
          "2022-09-03T14:00:00",
          "2022-09-03T15:00:00",
          "2022-09-03T16:00:00",
          "2022-09-03T17:00:00",
          "2022-09-03T18:00:00",
          "2022-09-03T19:00:00",
          "2022-09-03T20:00:00",
          "2022-09-03T21:00:00",
          "2022-09-03T22:00:00",
          "2022-09-03T23:00:00",
          "2022-09-04T00:00:00",
          "2022-09-04T01:00:00",
          "2022-09-04T02:00:00",
          "2022-09-04T03:00:00",
          "2022-09-04T04:00:00",
          "2022-09-04T05:00:00",
          "2022-09-04T06:00:00",
          "2022-09-04T07:00:00",
          "2022-09-04T08:00:00",
          "2022-09-04T09:00:00",
          "2022-09-04T10:00:00",
          "2022-09-04T11:00:00",
          "2022-09-04T12:00:00",
          "2022-09-04T13:00:00",
          "2022-09-04T14:00:00",
          "2022-09-04T15:00:00",
          "2022-09-04T16:00:00",
          "2022-09-04T17:00:00",
          "2022-09-04T18:00:00",
          "2022-09-04T19:00:00",
          "2022-09-04T20:00:00",
          "2022-09-04T21:00:00",
          "2022-09-04T22:00:00",
          "2022-09-04T23:00:00",
          "2022-09-05T00:00:00",
          "2022-09-05T01:00:00",
          "2022-09-05T02:00:00",
          "2022-09-05T03:00:00",
          "2022-09-05T04:00:00",
          "2022-09-05T05:00:00",
          "2022-09-05T06:00:00",
          "2022-09-05T07:00:00",
          "2022-09-05T08:00:00",
          "2022-09-05T09:00:00",
          "2022-09-05T10:00:00",
          "2022-09-05T11:00:00",
          "2022-09-05T12:00:00",
          "2022-09-05T13:00:00",
          "2022-09-05T14:00:00",
          "2022-09-05T15:00:00",
          "2022-09-05T16:00:00",
          "2022-09-05T17:00:00",
          "2022-09-05T18:00:00",
          "2022-09-05T19:00:00",
          "2022-09-05T20:00:00",
          "2022-09-05T21:00:00",
          "2022-09-05T22:00:00",
          "2022-09-05T23:00:00",
          "2022-09-06T00:00:00",
          "2022-09-06T01:00:00",
          "2022-09-06T02:00:00",
          "2022-09-06T03:00:00",
          "2022-09-06T04:00:00",
          "2022-09-06T05:00:00",
          "2022-09-06T06:00:00",
          "2022-09-06T07:00:00",
          "2022-09-06T08:00:00",
          "2022-09-06T09:00:00",
          "2022-09-06T10:00:00",
          "2022-09-06T11:00:00",
          "2022-09-06T12:00:00",
          "2022-09-06T13:00:00",
          "2022-09-06T14:00:00",
          "2022-09-06T15:00:00",
          "2022-09-06T16:00:00",
          "2022-09-06T17:00:00",
          "2022-09-06T18:00:00",
          "2022-09-06T19:00:00",
          "2022-09-06T20:00:00",
          "2022-09-06T21:00:00",
          "2022-09-06T22:00:00",
          "2022-09-06T23:00:00",
          "2022-09-07T00:00:00",
          "2022-09-07T01:00:00",
          "2022-09-07T02:00:00",
          "2022-09-07T03:00:00",
          "2022-09-07T04:00:00",
          "2022-09-07T05:00:00",
          "2022-09-07T06:00:00",
          "2022-09-07T07:00:00",
          "2022-09-07T08:00:00",
          "2022-09-07T09:00:00",
          "2022-09-07T10:00:00",
          "2022-09-07T11:00:00",
          "2022-09-07T12:00:00",
          "2022-09-07T13:00:00",
          "2022-09-07T14:00:00",
          "2022-09-07T15:00:00",
          "2022-09-07T16:00:00",
          "2022-09-07T17:00:00",
          "2022-09-07T18:00:00",
          "2022-09-07T19:00:00",
          "2022-09-07T20:00:00",
          "2022-09-07T21:00:00",
          "2022-09-07T22:00:00",
          "2022-09-07T23:00:00",
          "2022-09-08T00:00:00",
          "2022-09-08T01:00:00",
          "2022-09-08T02:00:00",
          "2022-09-08T03:00:00",
          "2022-09-08T04:00:00",
          "2022-09-08T05:00:00",
          "2022-09-08T06:00:00",
          "2022-09-08T07:00:00",
          "2022-09-08T08:00:00",
          "2022-09-08T09:00:00",
          "2022-09-08T10:00:00",
          "2022-09-08T11:00:00",
          "2022-09-08T12:00:00",
          "2022-09-08T13:00:00",
          "2022-09-08T14:00:00",
          "2022-09-08T15:00:00",
          "2022-09-08T16:00:00",
          "2022-09-08T17:00:00",
          "2022-09-08T18:00:00",
          "2022-09-08T19:00:00",
          "2022-09-08T20:00:00",
          "2022-09-08T21:00:00",
          "2022-09-08T22:00:00",
          "2022-09-08T23:00:00",
          "2022-09-09T00:00:00",
          "2022-09-09T01:00:00",
          "2022-09-09T02:00:00",
          "2022-09-09T03:00:00",
          "2022-09-09T04:00:00",
          "2022-09-09T05:00:00",
          "2022-09-09T06:00:00",
          "2022-09-09T07:00:00",
          "2022-09-09T08:00:00",
          "2022-09-09T09:00:00",
          "2022-09-09T10:00:00",
          "2022-09-09T11:00:00",
          "2022-09-09T12:00:00",
          "2022-09-09T13:00:00",
          "2022-09-09T14:00:00",
          "2022-09-09T15:00:00",
          "2022-09-09T16:00:00",
          "2022-09-09T17:00:00",
          "2022-09-09T18:00:00",
          "2022-09-09T19:00:00",
          "2022-09-09T20:00:00",
          "2022-09-09T21:00:00",
          "2022-09-09T22:00:00",
          "2022-09-09T23:00:00",
          "2022-09-10T00:00:00",
          "2022-09-10T01:00:00",
          "2022-09-10T02:00:00",
          "2022-09-10T03:00:00",
          "2022-09-10T04:00:00",
          "2022-09-10T05:00:00",
          "2022-09-10T06:00:00",
          "2022-09-10T07:00:00",
          "2022-09-10T08:00:00",
          "2022-09-10T09:00:00",
          "2022-09-10T10:00:00",
          "2022-09-10T11:00:00",
          "2022-09-10T12:00:00",
          "2022-09-10T13:00:00",
          "2022-09-10T14:00:00",
          "2022-09-10T15:00:00",
          "2022-09-10T16:00:00",
          "2022-09-10T17:00:00",
          "2022-09-10T18:00:00",
          "2022-09-10T19:00:00",
          "2022-09-10T20:00:00",
          "2022-09-10T21:00:00",
          "2022-09-10T22:00:00",
          "2022-09-10T23:00:00",
          "2022-09-11T00:00:00",
          "2022-09-11T01:00:00",
          "2022-09-11T02:00:00",
          "2022-09-11T03:00:00",
          "2022-09-11T04:00:00",
          "2022-09-11T05:00:00",
          "2022-09-11T06:00:00",
          "2022-09-11T07:00:00",
          "2022-09-11T08:00:00",
          "2022-09-11T09:00:00",
          "2022-09-11T10:00:00",
          "2022-09-11T11:00:00",
          "2022-09-11T12:00:00",
          "2022-09-11T13:00:00",
          "2022-09-11T14:00:00",
          "2022-09-11T15:00:00",
          "2022-09-11T16:00:00",
          "2022-09-11T17:00:00",
          "2022-09-11T18:00:00",
          "2022-09-11T19:00:00",
          "2022-09-11T20:00:00",
          "2022-09-11T21:00:00",
          "2022-09-11T22:00:00",
          "2022-09-11T23:00:00",
          "2022-09-12T00:00:00",
          "2022-09-12T01:00:00",
          "2022-09-12T02:00:00",
          "2022-09-12T03:00:00",
          "2022-09-12T04:00:00",
          "2022-09-12T05:00:00",
          "2022-09-12T06:00:00",
          "2022-09-12T07:00:00",
          "2022-09-12T08:00:00",
          "2022-09-12T09:00:00",
          "2022-09-12T10:00:00",
          "2022-09-12T11:00:00",
          "2022-09-12T12:00:00",
          "2022-09-12T13:00:00",
          "2022-09-12T14:00:00",
          "2022-09-12T15:00:00",
          "2022-09-12T16:00:00",
          "2022-09-12T17:00:00",
          "2022-09-12T18:00:00",
          "2022-09-12T19:00:00",
          "2022-09-12T20:00:00",
          "2022-09-12T21:00:00",
          "2022-09-12T22:00:00",
          "2022-09-12T23:00:00",
          "2022-09-13T00:00:00",
          "2022-09-13T01:00:00",
          "2022-09-13T02:00:00",
          "2022-09-13T03:00:00",
          "2022-09-13T04:00:00",
          "2022-09-13T05:00:00",
          "2022-09-13T06:00:00",
          "2022-09-13T07:00:00",
          "2022-09-13T08:00:00",
          "2022-09-13T09:00:00",
          "2022-09-13T10:00:00",
          "2022-09-13T11:00:00",
          "2022-09-13T12:00:00",
          "2022-09-13T13:00:00",
          "2022-09-13T14:00:00",
          "2022-09-13T15:00:00",
          "2022-09-13T16:00:00",
          "2022-09-13T17:00:00",
          "2022-09-13T18:00:00",
          "2022-09-13T19:00:00",
          "2022-09-13T20:00:00",
          "2022-09-13T21:00:00",
          "2022-09-13T22:00:00",
          "2022-09-13T23:00:00",
          "2022-09-14T00:00:00",
          "2022-09-14T01:00:00",
          "2022-09-14T02:00:00",
          "2022-09-14T03:00:00",
          "2022-09-14T04:00:00",
          "2022-09-14T05:00:00",
          "2022-09-14T06:00:00",
          "2022-09-14T07:00:00",
          "2022-09-14T08:00:00",
          "2022-09-14T09:00:00",
          "2022-09-14T10:00:00",
          "2022-09-14T11:00:00",
          "2022-09-14T12:00:00",
          "2022-09-14T13:00:00",
          "2022-09-14T14:00:00",
          "2022-09-14T15:00:00",
          "2022-09-14T16:00:00",
          "2022-09-14T17:00:00",
          "2022-09-14T18:00:00",
          "2022-09-14T19:00:00",
          "2022-09-14T20:00:00",
          "2022-09-14T21:00:00",
          "2022-09-14T22:00:00",
          "2022-09-14T23:00:00",
          "2022-09-15T00:00:00",
          "2022-09-15T01:00:00",
          "2022-09-15T02:00:00",
          "2022-09-15T03:00:00",
          "2022-09-15T04:00:00",
          "2022-09-15T05:00:00",
          "2022-09-15T06:00:00",
          "2022-09-15T07:00:00",
          "2022-09-15T08:00:00",
          "2022-09-15T09:00:00",
          "2022-09-15T10:00:00",
          "2022-09-15T11:00:00",
          "2022-09-15T12:00:00",
          "2022-09-15T13:00:00",
          "2022-09-15T14:00:00",
          "2022-09-15T15:00:00",
          "2022-09-15T16:00:00",
          "2022-09-15T17:00:00",
          "2022-09-15T18:00:00",
          "2022-09-15T19:00:00",
          "2022-09-15T20:00:00",
          "2022-09-15T21:00:00",
          "2022-09-15T22:00:00",
          "2022-09-15T23:00:00",
          "2022-09-16T00:00:00",
          "2022-09-16T01:00:00",
          "2022-09-16T02:00:00",
          "2022-09-16T03:00:00",
          "2022-09-16T04:00:00",
          "2022-09-16T05:00:00",
          "2022-09-16T06:00:00",
          "2022-09-16T07:00:00",
          "2022-09-16T08:00:00",
          "2022-09-16T09:00:00",
          "2022-09-16T10:00:00",
          "2022-09-16T11:00:00",
          "2022-09-16T12:00:00",
          "2022-09-16T13:00:00",
          "2022-09-16T14:00:00",
          "2022-09-16T15:00:00",
          "2022-09-16T16:00:00",
          "2022-09-16T17:00:00",
          "2022-09-16T18:00:00",
          "2022-09-16T19:00:00",
          "2022-09-16T20:00:00",
          "2022-09-16T21:00:00",
          "2022-09-16T22:00:00",
          "2022-09-16T23:00:00",
          "2022-09-17T00:00:00"
         ],
         "xaxis": "x",
         "y": [
          25,
          18,
          10,
          0,
          2,
          0,
          0,
          0,
          0,
          0,
          1,
          0,
          4,
          0,
          3,
          0,
          1,
          3,
          2,
          4,
          5,
          1,
          5,
          17,
          21,
          20,
          16,
          8,
          4,
          0,
          0,
          0,
          0,
          0,
          2,
          1,
          2,
          1,
          1,
          3,
          1,
          4,
          4,
          2,
          1,
          2,
          9,
          3,
          1,
          1,
          0,
          0,
          0,
          0,
          0,
          1,
          0,
          0,
          0,
          1,
          0,
          1,
          0,
          2,
          2,
          1,
          1,
          0,
          1,
          2,
          0,
          1,
          3,
          1,
          0,
          0,
          0,
          0,
          0,
          0,
          0,
          0,
          1,
          1,
          1,
          1,
          1,
          0,
          3,
          1,
          1,
          3,
          2,
          4,
          4,
          2,
          4,
          1,
          0,
          0,
          0,
          0,
          0,
          1,
          0,
          2,
          0,
          0,
          0,
          0,
          1,
          1,
          3,
          0,
          0,
          1,
          4,
          2,
          1,
          1,
          3,
          0,
          2,
          0,
          0,
          0,
          0,
          0,
          0,
          1,
          0,
          1,
          1,
          2,
          2,
          3,
          2,
          2,
          3,
          3,
          2,
          1,
          3,
          8,
          4,
          4,
          0,
          0,
          0,
          0,
          1,
          0,
          0,
          1,
          0,
          0,
          2,
          6,
          1,
          1,
          1,
          3,
          2,
          8,
          1,
          4,
          6,
          6,
          25,
          16,
          12,
          2,
          3,
          0,
          0,
          0,
          1,
          2,
          0,
          0,
          2,
          0,
          1,
          5,
          4,
          0,
          2,
          2,
          3,
          5,
          10,
          11,
          14,
          20,
          18,
          8,
          2,
          0,
          0,
          1,
          0,
          1,
          0,
          0,
          1,
          5,
          1,
          2,
          4,
          0,
          5,
          1,
          3,
          4,
          4,
          5,
          2,
          0,
          0,
          0,
          0,
          0,
          0,
          0,
          0,
          0,
          0,
          0,
          1,
          1,
          0,
          1,
          0,
          1,
          0,
          2,
          1,
          3,
          2,
          2,
          2,
          0,
          0,
          1,
          0,
          0,
          0,
          1,
          0,
          0,
          0,
          0,
          1,
          0,
          0,
          1,
          1,
          1,
          3,
          1,
          1,
          5,
          3,
          2,
          3,
          1,
          0,
          0,
          0,
          0,
          0,
          0,
          2,
          0,
          0,
          1,
          1,
          0,
          0,
          1,
          1,
          2,
          2,
          0,
          1,
          2,
          4,
          2,
          5,
          1,
          1,
          0,
          0,
          0,
          1,
          0,
          0,
          0,
          0,
          3,
          3,
          0,
          0,
          1,
          1,
          3,
          5,
          2,
          1,
          2,
          2,
          7,
          3,
          3,
          0,
          0,
          0,
          0,
          0,
          0,
          0,
          2,
          0,
          2,
          0,
          0,
          1,
          2,
          2,
          4,
          0,
          0,
          3,
          1,
          3,
          3,
          3,
          5,
          7,
          5,
          1,
          0,
          0,
          0,
          0,
          0,
          0,
          0,
          2,
          3,
          1,
          3,
          0,
          2,
          2,
          0,
          1,
          2,
          9,
          2,
          10,
          12,
          7,
          4,
          3,
          1,
          0,
          0,
          0,
          1,
          1,
          1,
          3,
          0,
          3,
          0,
          4,
          2,
          2,
          2,
          2,
          3,
          6,
          15,
          15,
          5,
          0,
          2,
          0,
          0,
          0,
          0,
          0,
          2,
          0,
          2,
          0,
          1,
          0,
          2,
          2,
          2,
          5,
          0,
          4,
          2,
          4,
          2,
          0,
          0,
          0,
          0,
          0,
          0,
          1,
          1,
          1,
          1,
          1,
          3,
          0,
          1,
          0,
          1,
          1,
          2,
          2,
          1,
          0,
          2,
          2,
          0,
          1,
          3,
          1,
          0,
          0,
          0,
          1,
          0,
          1,
          1,
          0,
          0,
          0,
          1,
          0,
          1,
          1,
          2,
          3,
          1,
          3,
          5,
          3,
          7,
          1,
          2,
          0,
          0,
          0,
          0,
          0,
          1,
          3,
          2,
          0,
          1,
          0,
          0,
          1,
          1,
          3,
          3,
          3,
          1,
          4,
          5,
          9,
          13,
          8,
          8,
          2,
          0,
          0,
          0,
          1,
          1,
          0,
          0,
          0,
          0,
          1,
          1,
          0,
          1,
          0,
          3,
          1,
          3,
          2,
          2,
          6,
          15,
          19,
          11,
          24,
          10,
          4,
          0,
          0,
          0,
          0,
          0,
          1,
          1,
          2,
          2,
          0,
          3,
          5,
          9,
          8,
          11,
          10,
          6,
          8,
          22,
          21,
          28,
          22,
          10,
          4,
          1,
          1,
          2,
          2,
          0,
          3,
          2,
          5,
          7,
          1,
          1,
          2,
          2,
          3,
          2,
          7,
          11,
          6,
          15,
          3,
          0,
          1,
          0,
          0,
          0,
          3,
          1,
          0,
          1,
          0,
          2,
          1,
          2,
          1,
          2,
          1,
          0,
          3,
          2,
          3,
          2,
          3,
          4,
          1,
          1,
          0,
          0,
          0,
          1,
          1,
          2,
          0,
          0,
          5,
          0,
          1,
          0,
          1,
          1,
          0,
          0,
          0,
          2,
          1,
          3,
          12,
          4,
          3,
          2,
          0,
          0,
          0,
          0,
          0,
          1,
          0,
          1,
          0,
          1,
          1,
          1,
          2,
          1,
          0,
          2,
          1,
          3,
          1,
          4,
          3,
          4,
          1,
          2,
          2,
          0,
          0,
          0,
          0,
          0,
          1,
          0,
          0,
          1,
          0,
          0,
          1,
          1,
          3,
          0,
          5,
          2,
          3,
          1,
          21,
          17,
          6,
          5,
          1,
          3,
          0,
          0,
          0,
          1,
          0,
          1,
          0,
          0,
          1,
          1,
          0,
          5,
          3,
          4,
          1,
          7,
          3,
          6,
          5,
          16,
          18
         ],
         "yaxis": "y"
        },
        {
         "line": {
          "color": "green"
         },
         "marker": {
          "size": 10
         },
         "mode": "markers",
         "name": "actual value",
         "type": "scatter",
         "x": [
          "2022-09-17T00:00:00"
         ],
         "y": [
          18
         ]
        },
        {
         "line": {
          "color": "red"
         },
         "marker": {
          "size": 10,
          "symbol": "x"
         },
         "mode": "markers",
         "name": "predicted value",
         "type": "scatter",
         "x": [
          "2022-09-17T00:00:00"
         ],
         "y": [
          18.838020423501547
         ]
        }
       ],
       "layout": {
        "legend": {
         "tracegroupgap": 0
        },
        "template": {
         "data": {
          "bar": [
           {
            "error_x": {
             "color": "#f2f5fa"
            },
            "error_y": {
             "color": "#f2f5fa"
            },
            "marker": {
             "line": {
              "color": "rgb(17,17,17)",
              "width": 0.5
             },
             "pattern": {
              "fillmode": "overlay",
              "size": 10,
              "solidity": 0.2
             }
            },
            "type": "bar"
           }
          ],
          "barpolar": [
           {
            "marker": {
             "line": {
              "color": "rgb(17,17,17)",
              "width": 0.5
             },
             "pattern": {
              "fillmode": "overlay",
              "size": 10,
              "solidity": 0.2
             }
            },
            "type": "barpolar"
           }
          ],
          "carpet": [
           {
            "aaxis": {
             "endlinecolor": "#A2B1C6",
             "gridcolor": "#506784",
             "linecolor": "#506784",
             "minorgridcolor": "#506784",
             "startlinecolor": "#A2B1C6"
            },
            "baxis": {
             "endlinecolor": "#A2B1C6",
             "gridcolor": "#506784",
             "linecolor": "#506784",
             "minorgridcolor": "#506784",
             "startlinecolor": "#A2B1C6"
            },
            "type": "carpet"
           }
          ],
          "choropleth": [
           {
            "colorbar": {
             "outlinewidth": 0,
             "ticks": ""
            },
            "type": "choropleth"
           }
          ],
          "contour": [
           {
            "colorbar": {
             "outlinewidth": 0,
             "ticks": ""
            },
            "colorscale": [
             [
              0,
              "#0d0887"
             ],
             [
              0.1111111111111111,
              "#46039f"
             ],
             [
              0.2222222222222222,
              "#7201a8"
             ],
             [
              0.3333333333333333,
              "#9c179e"
             ],
             [
              0.4444444444444444,
              "#bd3786"
             ],
             [
              0.5555555555555556,
              "#d8576b"
             ],
             [
              0.6666666666666666,
              "#ed7953"
             ],
             [
              0.7777777777777778,
              "#fb9f3a"
             ],
             [
              0.8888888888888888,
              "#fdca26"
             ],
             [
              1,
              "#f0f921"
             ]
            ],
            "type": "contour"
           }
          ],
          "contourcarpet": [
           {
            "colorbar": {
             "outlinewidth": 0,
             "ticks": ""
            },
            "type": "contourcarpet"
           }
          ],
          "heatmap": [
           {
            "colorbar": {
             "outlinewidth": 0,
             "ticks": ""
            },
            "colorscale": [
             [
              0,
              "#0d0887"
             ],
             [
              0.1111111111111111,
              "#46039f"
             ],
             [
              0.2222222222222222,
              "#7201a8"
             ],
             [
              0.3333333333333333,
              "#9c179e"
             ],
             [
              0.4444444444444444,
              "#bd3786"
             ],
             [
              0.5555555555555556,
              "#d8576b"
             ],
             [
              0.6666666666666666,
              "#ed7953"
             ],
             [
              0.7777777777777778,
              "#fb9f3a"
             ],
             [
              0.8888888888888888,
              "#fdca26"
             ],
             [
              1,
              "#f0f921"
             ]
            ],
            "type": "heatmap"
           }
          ],
          "heatmapgl": [
           {
            "colorbar": {
             "outlinewidth": 0,
             "ticks": ""
            },
            "colorscale": [
             [
              0,
              "#0d0887"
             ],
             [
              0.1111111111111111,
              "#46039f"
             ],
             [
              0.2222222222222222,
              "#7201a8"
             ],
             [
              0.3333333333333333,
              "#9c179e"
             ],
             [
              0.4444444444444444,
              "#bd3786"
             ],
             [
              0.5555555555555556,
              "#d8576b"
             ],
             [
              0.6666666666666666,
              "#ed7953"
             ],
             [
              0.7777777777777778,
              "#fb9f3a"
             ],
             [
              0.8888888888888888,
              "#fdca26"
             ],
             [
              1,
              "#f0f921"
             ]
            ],
            "type": "heatmapgl"
           }
          ],
          "histogram": [
           {
            "marker": {
             "pattern": {
              "fillmode": "overlay",
              "size": 10,
              "solidity": 0.2
             }
            },
            "type": "histogram"
           }
          ],
          "histogram2d": [
           {
            "colorbar": {
             "outlinewidth": 0,
             "ticks": ""
            },
            "colorscale": [
             [
              0,
              "#0d0887"
             ],
             [
              0.1111111111111111,
              "#46039f"
             ],
             [
              0.2222222222222222,
              "#7201a8"
             ],
             [
              0.3333333333333333,
              "#9c179e"
             ],
             [
              0.4444444444444444,
              "#bd3786"
             ],
             [
              0.5555555555555556,
              "#d8576b"
             ],
             [
              0.6666666666666666,
              "#ed7953"
             ],
             [
              0.7777777777777778,
              "#fb9f3a"
             ],
             [
              0.8888888888888888,
              "#fdca26"
             ],
             [
              1,
              "#f0f921"
             ]
            ],
            "type": "histogram2d"
           }
          ],
          "histogram2dcontour": [
           {
            "colorbar": {
             "outlinewidth": 0,
             "ticks": ""
            },
            "colorscale": [
             [
              0,
              "#0d0887"
             ],
             [
              0.1111111111111111,
              "#46039f"
             ],
             [
              0.2222222222222222,
              "#7201a8"
             ],
             [
              0.3333333333333333,
              "#9c179e"
             ],
             [
              0.4444444444444444,
              "#bd3786"
             ],
             [
              0.5555555555555556,
              "#d8576b"
             ],
             [
              0.6666666666666666,
              "#ed7953"
             ],
             [
              0.7777777777777778,
              "#fb9f3a"
             ],
             [
              0.8888888888888888,
              "#fdca26"
             ],
             [
              1,
              "#f0f921"
             ]
            ],
            "type": "histogram2dcontour"
           }
          ],
          "mesh3d": [
           {
            "colorbar": {
             "outlinewidth": 0,
             "ticks": ""
            },
            "type": "mesh3d"
           }
          ],
          "parcoords": [
           {
            "line": {
             "colorbar": {
              "outlinewidth": 0,
              "ticks": ""
             }
            },
            "type": "parcoords"
           }
          ],
          "pie": [
           {
            "automargin": true,
            "type": "pie"
           }
          ],
          "scatter": [
           {
            "marker": {
             "line": {
              "color": "#283442"
             }
            },
            "type": "scatter"
           }
          ],
          "scatter3d": [
           {
            "line": {
             "colorbar": {
              "outlinewidth": 0,
              "ticks": ""
             }
            },
            "marker": {
             "colorbar": {
              "outlinewidth": 0,
              "ticks": ""
             }
            },
            "type": "scatter3d"
           }
          ],
          "scattercarpet": [
           {
            "marker": {
             "colorbar": {
              "outlinewidth": 0,
              "ticks": ""
             }
            },
            "type": "scattercarpet"
           }
          ],
          "scattergeo": [
           {
            "marker": {
             "colorbar": {
              "outlinewidth": 0,
              "ticks": ""
             }
            },
            "type": "scattergeo"
           }
          ],
          "scattergl": [
           {
            "marker": {
             "line": {
              "color": "#283442"
             }
            },
            "type": "scattergl"
           }
          ],
          "scattermapbox": [
           {
            "marker": {
             "colorbar": {
              "outlinewidth": 0,
              "ticks": ""
             }
            },
            "type": "scattermapbox"
           }
          ],
          "scatterpolar": [
           {
            "marker": {
             "colorbar": {
              "outlinewidth": 0,
              "ticks": ""
             }
            },
            "type": "scatterpolar"
           }
          ],
          "scatterpolargl": [
           {
            "marker": {
             "colorbar": {
              "outlinewidth": 0,
              "ticks": ""
             }
            },
            "type": "scatterpolargl"
           }
          ],
          "scatterternary": [
           {
            "marker": {
             "colorbar": {
              "outlinewidth": 0,
              "ticks": ""
             }
            },
            "type": "scatterternary"
           }
          ],
          "surface": [
           {
            "colorbar": {
             "outlinewidth": 0,
             "ticks": ""
            },
            "colorscale": [
             [
              0,
              "#0d0887"
             ],
             [
              0.1111111111111111,
              "#46039f"
             ],
             [
              0.2222222222222222,
              "#7201a8"
             ],
             [
              0.3333333333333333,
              "#9c179e"
             ],
             [
              0.4444444444444444,
              "#bd3786"
             ],
             [
              0.5555555555555556,
              "#d8576b"
             ],
             [
              0.6666666666666666,
              "#ed7953"
             ],
             [
              0.7777777777777778,
              "#fb9f3a"
             ],
             [
              0.8888888888888888,
              "#fdca26"
             ],
             [
              1,
              "#f0f921"
             ]
            ],
            "type": "surface"
           }
          ],
          "table": [
           {
            "cells": {
             "fill": {
              "color": "#506784"
             },
             "line": {
              "color": "rgb(17,17,17)"
             }
            },
            "header": {
             "fill": {
              "color": "#2a3f5f"
             },
             "line": {
              "color": "rgb(17,17,17)"
             }
            },
            "type": "table"
           }
          ]
         },
         "layout": {
          "annotationdefaults": {
           "arrowcolor": "#f2f5fa",
           "arrowhead": 0,
           "arrowwidth": 1
          },
          "autotypenumbers": "strict",
          "coloraxis": {
           "colorbar": {
            "outlinewidth": 0,
            "ticks": ""
           }
          },
          "colorscale": {
           "diverging": [
            [
             0,
             "#8e0152"
            ],
            [
             0.1,
             "#c51b7d"
            ],
            [
             0.2,
             "#de77ae"
            ],
            [
             0.3,
             "#f1b6da"
            ],
            [
             0.4,
             "#fde0ef"
            ],
            [
             0.5,
             "#f7f7f7"
            ],
            [
             0.6,
             "#e6f5d0"
            ],
            [
             0.7,
             "#b8e186"
            ],
            [
             0.8,
             "#7fbc41"
            ],
            [
             0.9,
             "#4d9221"
            ],
            [
             1,
             "#276419"
            ]
           ],
           "sequential": [
            [
             0,
             "#0d0887"
            ],
            [
             0.1111111111111111,
             "#46039f"
            ],
            [
             0.2222222222222222,
             "#7201a8"
            ],
            [
             0.3333333333333333,
             "#9c179e"
            ],
            [
             0.4444444444444444,
             "#bd3786"
            ],
            [
             0.5555555555555556,
             "#d8576b"
            ],
            [
             0.6666666666666666,
             "#ed7953"
            ],
            [
             0.7777777777777778,
             "#fb9f3a"
            ],
            [
             0.8888888888888888,
             "#fdca26"
            ],
            [
             1,
             "#f0f921"
            ]
           ],
           "sequentialminus": [
            [
             0,
             "#0d0887"
            ],
            [
             0.1111111111111111,
             "#46039f"
            ],
            [
             0.2222222222222222,
             "#7201a8"
            ],
            [
             0.3333333333333333,
             "#9c179e"
            ],
            [
             0.4444444444444444,
             "#bd3786"
            ],
            [
             0.5555555555555556,
             "#d8576b"
            ],
            [
             0.6666666666666666,
             "#ed7953"
            ],
            [
             0.7777777777777778,
             "#fb9f3a"
            ],
            [
             0.8888888888888888,
             "#fdca26"
            ],
            [
             1,
             "#f0f921"
            ]
           ]
          },
          "colorway": [
           "#636efa",
           "#EF553B",
           "#00cc96",
           "#ab63fa",
           "#FFA15A",
           "#19d3f3",
           "#FF6692",
           "#B6E880",
           "#FF97FF",
           "#FECB52"
          ],
          "font": {
           "color": "#f2f5fa"
          },
          "geo": {
           "bgcolor": "rgb(17,17,17)",
           "lakecolor": "rgb(17,17,17)",
           "landcolor": "rgb(17,17,17)",
           "showlakes": true,
           "showland": true,
           "subunitcolor": "#506784"
          },
          "hoverlabel": {
           "align": "left"
          },
          "hovermode": "closest",
          "mapbox": {
           "style": "dark"
          },
          "paper_bgcolor": "rgb(17,17,17)",
          "plot_bgcolor": "rgb(17,17,17)",
          "polar": {
           "angularaxis": {
            "gridcolor": "#506784",
            "linecolor": "#506784",
            "ticks": ""
           },
           "bgcolor": "rgb(17,17,17)",
           "radialaxis": {
            "gridcolor": "#506784",
            "linecolor": "#506784",
            "ticks": ""
           }
          },
          "scene": {
           "xaxis": {
            "backgroundcolor": "rgb(17,17,17)",
            "gridcolor": "#506784",
            "gridwidth": 2,
            "linecolor": "#506784",
            "showbackground": true,
            "ticks": "",
            "zerolinecolor": "#C8D4E3"
           },
           "yaxis": {
            "backgroundcolor": "rgb(17,17,17)",
            "gridcolor": "#506784",
            "gridwidth": 2,
            "linecolor": "#506784",
            "showbackground": true,
            "ticks": "",
            "zerolinecolor": "#C8D4E3"
           },
           "zaxis": {
            "backgroundcolor": "rgb(17,17,17)",
            "gridcolor": "#506784",
            "gridwidth": 2,
            "linecolor": "#506784",
            "showbackground": true,
            "ticks": "",
            "zerolinecolor": "#C8D4E3"
           }
          },
          "shapedefaults": {
           "line": {
            "color": "#f2f5fa"
           }
          },
          "sliderdefaults": {
           "bgcolor": "#C8D4E3",
           "bordercolor": "rgb(17,17,17)",
           "borderwidth": 1,
           "tickwidth": 0
          },
          "ternary": {
           "aaxis": {
            "gridcolor": "#506784",
            "linecolor": "#506784",
            "ticks": ""
           },
           "baxis": {
            "gridcolor": "#506784",
            "linecolor": "#506784",
            "ticks": ""
           },
           "bgcolor": "rgb(17,17,17)",
           "caxis": {
            "gridcolor": "#506784",
            "linecolor": "#506784",
            "ticks": ""
           }
          },
          "title": {
           "x": 0.05
          },
          "updatemenudefaults": {
           "bgcolor": "#506784",
           "borderwidth": 0
          },
          "xaxis": {
           "automargin": true,
           "gridcolor": "#283442",
           "linecolor": "#506784",
           "ticks": "",
           "title": {
            "standoff": 15
           },
           "zerolinecolor": "#283442",
           "zerolinewidth": 2
          },
          "yaxis": {
           "automargin": true,
           "gridcolor": "#283442",
           "linecolor": "#506784",
           "ticks": "",
           "title": {
            "standoff": 15
           },
           "zerolinecolor": "#283442",
           "zerolinewidth": 2
          }
         }
        },
        "title": {
         "text": "Location ID : 255 , Pick Up hour: 2022-09-17 00:00:00"
        },
        "xaxis": {
         "anchor": "y",
         "domain": [
          0,
          1
         ],
         "title": {
          "text": "x"
         }
        },
        "yaxis": {
         "anchor": "x",
         "domain": [
          0,
          1
         ],
         "title": {
          "text": "y"
         }
        }
       }
      }
     },
     "metadata": {},
     "output_type": "display_data"
    }
   ],
   "source": [
    "\n",
    "plot_one_example(X_test,\n",
    "                       y_test,\n",
    "                       18940,\n",
    "                       prediction=pd.Series(preds))"
   ]
  }
 ],
 "metadata": {
  "kernelspec": {
   "display_name": "src-Dl7-AU2p-py3.10",
   "language": "python",
   "name": "python3"
  },
  "language_info": {
   "codemirror_mode": {
    "name": "ipython",
    "version": 3
   },
   "file_extension": ".py",
   "mimetype": "text/x-python",
   "name": "python",
   "nbconvert_exporter": "python",
   "pygments_lexer": "ipython3",
   "version": "3.10.9"
  },
  "orig_nbformat": 4
 },
 "nbformat": 4,
 "nbformat_minor": 2
}
