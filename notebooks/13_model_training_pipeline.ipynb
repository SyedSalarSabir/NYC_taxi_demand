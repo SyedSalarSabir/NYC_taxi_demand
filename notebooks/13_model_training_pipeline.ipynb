{
 "cells": [
  {
   "cell_type": "code",
   "execution_count": null,
   "metadata": {},
   "outputs": [],
   "source": [
    "%reload_ext autoreload\n",
    "%autoreload 2"
   ]
  },
  {
   "cell_type": "code",
   "execution_count": null,
   "metadata": {},
   "outputs": [],
   "source": [
    "import sys \n",
    "sys.path.insert(0, 'E:\\\\repos\\\\NYC_tax_demand_predictor')"
   ]
  },
  {
   "cell_type": "code",
   "execution_count": null,
   "metadata": {},
   "outputs": [],
   "source": [
    "import hopsworks\n",
    "import src.config as config"
   ]
  },
  {
   "cell_type": "code",
   "execution_count": null,
   "metadata": {},
   "outputs": [],
   "source": [
    "print(config.HOPSWORKS_PROJECT)"
   ]
  },
  {
   "cell_type": "code",
   "execution_count": null,
   "metadata": {},
   "outputs": [],
   "source": [
    "project = hopsworks.login(project=config.HOPSWORKS_PROJECT,\n",
    "                          api_key_value= config.HOPSWORKS_API_KEY)\n",
    "\n",
    "feature_store = project.get_feature_store()\n",
    "\n",
    "feature_group= feature_store.get_feature_group(\n",
    "    name= config.FEATURE_GROUP_NAME,\n",
    "    version=config.FEATURE_GROUP_VERSION\n",
    ")"
   ]
  },
  {
   "cell_type": "code",
   "execution_count": null,
   "metadata": {},
   "outputs": [],
   "source": []
  },
  {
   "cell_type": "code",
   "execution_count": null,
   "metadata": {},
   "outputs": [],
   "source": [
    "try:\n",
    "    feature_store.create_feature_view(\n",
    "        name = config.FEATURE_VIEW_NAME,\n",
    "        version= config.FEATURE_VIEW_VERSION,\n",
    "        query= feature_group.select_all()\n",
    "    )\n",
    "except:\n",
    "    print(\"Feature view already created. skipping creation\")\n",
    "\n"
   ]
  },
  {
   "cell_type": "code",
   "execution_count": null,
   "metadata": {},
   "outputs": [],
   "source": [
    "feature_store.create_feature_view(\n",
    "        name = config.FEATURE_VIEW_NAME,\n",
    "        version= config.FEATURE_VIEW_VERSION,\n",
    "        query= feature_group.select_all()\n",
    "    )"
   ]
  },
  {
   "cell_type": "code",
   "execution_count": null,
   "metadata": {},
   "outputs": [],
   "source": [
    "feature_view= feature_store.get_feature_view(\n",
    "name= config.FEATURE_VIEW_NAME,\n",
    "version= config.FEATURE_VIEW_VERSION\n",
    ")"
   ]
  },
  {
   "cell_type": "code",
   "execution_count": null,
   "metadata": {},
   "outputs": [],
   "source": [
    "ts_data , _ = feature_view.training_data(\n",
    "    description= 'time series data - hourly taxi rides',statistics_config=False\n",
    ")"
   ]
  },
  {
   "cell_type": "code",
   "execution_count": null,
   "metadata": {},
   "outputs": [],
   "source": [
    "ts_data.head()"
   ]
  },
  {
   "cell_type": "code",
   "execution_count": null,
   "metadata": {},
   "outputs": [],
   "source": [
    "ts_data.sort_values(by= ['pu_location','pu_hour'],inplace=True)"
   ]
  },
  {
   "cell_type": "code",
   "execution_count": null,
   "metadata": {},
   "outputs": [],
   "source": [
    "ts_data.head()"
   ]
  },
  {
   "cell_type": "code",
   "execution_count": null,
   "metadata": {},
   "outputs": [],
   "source": [
    "from src.data import load_raw_data,transform_to_ts_data\n",
    "\n",
    "ts_data = load_raw_data(year=2022)\n",
    "ts_data = transform_to_ts_data(ts_data)"
   ]
  },
  {
   "cell_type": "code",
   "execution_count": null,
   "metadata": {},
   "outputs": [],
   "source": [
    "ts_data"
   ]
  },
  {
   "cell_type": "code",
   "execution_count": null,
   "metadata": {},
   "outputs": [],
   "source": [
    "from src.data import transform_ts_data_to_features_and_targets\n",
    "\n",
    "features, targets = transform_ts_data_to_features_and_targets(\n",
    "    ts_data=ts_data,\n",
    "    no_features = 24 * 28,\n",
    "    step_size = 23\n",
    ")\n",
    "\n",
    "features_and_targets = features.copy()\n",
    "features_and_targets['target'] = targets\n",
    "\n",
    "print(f'shape {features_and_targets.shape}')\n"
   ]
  },
  {
   "cell_type": "code",
   "execution_count": null,
   "metadata": {},
   "outputs": [],
   "source": [
    "features_and_targets.head()"
   ]
  },
  {
   "cell_type": "code",
   "execution_count": null,
   "metadata": {},
   "outputs": [],
   "source": [
    "from datetime import date , timedelta\n",
    "from src.data_split import train_test_split\n",
    "import pandas as pd\n",
    "\n",
    "\n",
    "cut_off_date = pd.to_datetime(date.today()-timedelta(days= 200))\n",
    "\n",
    "print(f'cutoff date {cut_off_date}')\n",
    "\n",
    "X_train, X_test, y_train, y_test = train_test_split(\n",
    "    features_and_targets,\n",
    "    cut_off_year= cut_off_date.year,\n",
    "    cut_off_day= cut_off_date.day,\n",
    "    cut_off_month= cut_off_date.month,\n",
    "    target_column = 'target'\n",
    ")\n",
    "\n",
    "print(f'training features {X_train.shape}')\n",
    "print(f'training targets {X_test.shape}')\n",
    "print(f'testing featues {y_train.shape}')\n",
    "print(f'test target {y_test.shape}')"
   ]
  },
  {
   "cell_type": "code",
   "execution_count": null,
   "metadata": {},
   "outputs": [],
   "source": [
    "from src.model import training_pipeline\n",
    "import numpy as np\n",
    "\n",
    "import optuna\n",
    "from sklearn.metrics import mean_absolute_error as mae\n",
    "from sklearn.model_selection import KFold, TimeSeriesSplit\n",
    "from sklearn.pipeline import make_pipeline\n",
    "\n",
    "def objective(trial :optuna.trial.Trial) -> float:\n",
    "\n",
    "    hyperparameters = {\n",
    "         \"metric\": 'mae',\n",
    "        \"verbose\": -1,\n",
    "        \"num_leaves\": trial.suggest_int(\"num_leaves\", 2, 256),\n",
    "        \"feature_fraction\": trial.suggest_float(\"feature_fraction\", 0.2, 1.0),\n",
    "        \"bagging_fraction\": trial.suggest_float(\"bagging_fraction\", 0.2, 1.0),\n",
    "        \"min_child_samples\": trial.suggest_int(\"min_child_samples\", 3, 100),\n",
    "    }\n",
    "\n",
    "    time_series_split = TimeSeriesSplit(n_splits=2)\n",
    "    scores=[]\n",
    "\n",
    "    for train_split, validataion_split in time_series_split.split(X_train):\n",
    "        X_train_, X_val_ = X_train.iloc[train_split,:], X_train.iloc[validataion_split,:]\n",
    "        y_train_, y_val_ = y_train.iloc[train_split], y_train.iloc[validataion_split]\n",
    "\n",
    "        pipeline = training_pipeline(**hyperparameters)\n",
    "        pipeline.fit(X_train_,y_train_)\n",
    "\n",
    "        y_preds = pipeline.predict(X_val_)\n",
    "\n",
    "        error = mae(y_val_,y_preds)\n",
    "\n",
    "        scores.append(error)\n",
    "    \n",
    "    return np.array(scores).mean()\n",
    "\n"
   ]
  },
  {
   "cell_type": "code",
   "execution_count": null,
   "metadata": {},
   "outputs": [],
   "source": [
    "optuna_study = optuna.create_study(direction='minimize')\n",
    "optuna_study.optimize(objective, n_trials=3)"
   ]
  },
  {
   "cell_type": "code",
   "execution_count": null,
   "metadata": {},
   "outputs": [],
   "source": [
    "best_params = optuna_study.best_params\n",
    "optuna_study.best_params"
   ]
  },
  {
   "cell_type": "code",
   "execution_count": null,
   "metadata": {},
   "outputs": [],
   "source": [
    "#training full dataset\n",
    "\n",
    "pipeline = training_pipeline(**best_params)\n",
    "pipeline.fit(X_train,y_train)"
   ]
  },
  {
   "cell_type": "code",
   "execution_count": null,
   "metadata": {},
   "outputs": [],
   "source": [
    "X_test.shape\n"
   ]
  },
  {
   "cell_type": "code",
   "execution_count": null,
   "metadata": {},
   "outputs": [],
   "source": [
    "predictions = pipeline.predict(X_test)\n",
    "test_mae = mae(y_test, predictions)\n",
    "print(f'{test_mae=:.4f}')"
   ]
  },
  {
   "cell_type": "code",
   "execution_count": null,
   "metadata": {},
   "outputs": [],
   "source": [
    "import joblib\n",
    "from src.paths import MODEL_DIR\n",
    "\n",
    "joblib.dump(pipeline, MODEL_DIR/'model_1.pkl')"
   ]
  },
  {
   "cell_type": "code",
   "execution_count": null,
   "metadata": {},
   "outputs": [],
   "source": [
    "from hsml.schema import Schema\n",
    "from hsml.model_schema import ModelSchema\n",
    "\n",
    "input_schema = Schema(X_train)\n",
    "output_schema = Schema(y_train)\n",
    "model_schema = ModelSchema(input_schema=input_schema, output_schema = output_schema)\n",
    "\n"
   ]
  },
  {
   "cell_type": "code",
   "execution_count": null,
   "metadata": {},
   "outputs": [],
   "source": [
    "import src.config as config\n",
    "import hopsworks\n",
    "\n",
    "project =  hopsworks.login(\n",
    "    project = config.HOPSWORKS_PROJECT,\n",
    "    api_key_value= config.HOPSWORKS_API_KEY\n",
    ")\n"
   ]
  },
  {
   "cell_type": "code",
   "execution_count": null,
   "metadata": {},
   "outputs": [],
   "source": [
    "model_registry = project.get_model_registry()"
   ]
  },
  {
   "cell_type": "code",
   "execution_count": null,
   "metadata": {},
   "outputs": [],
   "source": [
    "model = model_registry.sklearn.create_model(\n",
    "    name= \"model_to_predict_taxi_demand_for_the_next_hour\",\n",
    "    metrics= {\"test_mae\":test_mae},\n",
    "    description = 'Lgbm regressor with optuna tuned hyperparameters',\n",
    "    input_example= X_train.sample(),\n",
    "    model_schema= model_schema\n",
    "    \n",
    ")\n",
    "\n",
    "model.save(MODEL_DIR / 'model_1.pkl')"
   ]
  },
  {
   "cell_type": "code",
   "execution_count": null,
   "metadata": {},
   "outputs": [],
   "source": []
  }
 ],
 "metadata": {
  "kernelspec": {
   "display_name": ".venv",
   "language": "python",
   "name": "python3"
  },
  "language_info": {
   "codemirror_mode": {
    "name": "ipython",
    "version": 3
   },
   "file_extension": ".py",
   "mimetype": "text/x-python",
   "name": "python",
   "nbconvert_exporter": "python",
   "pygments_lexer": "ipython3",
   "version": "3.8.10"
  },
  "orig_nbformat": 4
 },
 "nbformat": 4,
 "nbformat_minor": 2
}
